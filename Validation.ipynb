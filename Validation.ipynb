{
 "cells": [
  {
   "cell_type": "code",
   "execution_count": null,
   "id": "e51bd520-fbc9-492b-ba0f-3f4b1c043acb",
   "metadata": {},
   "outputs": [],
   "source": [
    "from polpymer.core_funcs import Monomer, Polymer, Dish\n",
    "from polpymer.data_funcs import plot_dish, plot_polymer, grow_polymer, \\\n",
    "     generate_N_polymers, expect_observ, error_observ\n",
    "import numpy as np\n",
    "import matplotlib.pyplot as plt"
   ]
  },
  {
   "cell_type": "code",
   "execution_count": null,
   "id": "05abfaa6-246b-49c3-8dc0-6be959202d87",
   "metadata": {},
   "outputs": [],
   "source": [
    "dim = (5, 5)\n",
    "origin = (0, 0)\n",
    "N = 5\n",
    "L = 40"
   ]
  },
  {
   "cell_type": "code",
   "execution_count": null,
   "id": "3a10d244-6f60-4169-8052-b00b25ddb5d4",
   "metadata": {},
   "outputs": [],
   "source": [
    "test3 = Dish(dim, origin)\n",
    "test3.find_N_polymer(N, L)\n",
    "test3.analyse_polymers(L)\n",
    "print(test3.weights)\n",
    "print(test3.end_to_end)"
   ]
  },
  {
   "cell_type": "code",
   "execution_count": null,
   "id": "13868000-c7b8-44f4-87cd-4d29d95765ca",
   "metadata": {},
   "outputs": [],
   "source": [
    "test4 = Dish(dim, origin)\n",
    "test4.PERM(N, 2, L)\n",
    "print(test4.weights)\n",
    "print(test4.end_to_end)"
   ]
  },
  {
   "cell_type": "markdown",
   "id": "1a0e5513-1113-4086-b33e-104e337eaddb",
   "metadata": {},
   "source": [
    "Something is going wrong the end to end distance is shorter than the weight, they should be equal in size!!!"
   ]
  },
  {
   "cell_type": "code",
   "execution_count": null,
   "id": "7d541c66",
   "metadata": {},
   "outputs": [],
   "source": [
    "test4.weights.dtype"
   ]
  },
  {
   "cell_type": "markdown",
   "id": "08d15422-d461-43ec-b105-7cc5e3186efb",
   "metadata": {},
   "source": [
    "# Test Rosenbluth and PERM"
   ]
  },
  {
   "cell_type": "code",
   "execution_count": null,
   "id": "ebb82bc6-c612-4631-933a-525a45ee0d69",
   "metadata": {},
   "outputs": [],
   "source": [
    "dim = (5, 5)\n",
    "origin = (0, 0)\n",
    "N = 300\n",
    "L = 60"
   ]
  },
  {
   "cell_type": "markdown",
   "id": "39af3090-c6ac-405d-be50-df411625caf3",
   "metadata": {},
   "source": [
    "## Rosenbluth method"
   ]
  },
  {
   "cell_type": "code",
   "execution_count": null,
   "id": "32679259-8338-41b9-88a2-561d1f8f5843",
   "metadata": {},
   "outputs": [],
   "source": [
    "from polpymer.core_funcs import Monomer, Polymer, Dish\n",
    "\n",
    "polymers = Dish(dim, origin)\n",
    "polymers.find_N_polymer(N, L)\n",
    "\n",
    "a, b, c = polymers.analyse_polymers(L)\n",
    "end_to_end = expect_observ(a, c)\n",
    "error_end_to_end = error_observ(a, c, len(polymers.end_to_end))\n",
    "gyration = expect_observ(b, c)\n",
    "error_gyration = error_observ(b, c, len(polymers.gyration))\n",
    "length = np.arange(1, len(end_to_end)+1, 1, dtype=int)"
   ]
  },
  {
   "cell_type": "code",
   "execution_count": null,
   "id": "33d56744-49c0-4be2-b70f-b7c13dfa2312",
   "metadata": {},
   "outputs": [],
   "source": [
    "plt.figure(figsize=[15,8])\n",
    "plt.plot(length, end_to_end)#, error_end_to_end)\n",
    "plt.grid()\n",
    "plt.show()"
   ]
  },
  {
   "cell_type": "code",
   "execution_count": null,
   "id": "874147b5-614e-4511-a4e5-776ada4bd089",
   "metadata": {},
   "outputs": [],
   "source": [
    "print(end_to_end)"
   ]
  },
  {
   "cell_type": "code",
   "execution_count": null,
   "id": "b86460fb-2f87-48f5-a380-7312de020d06",
   "metadata": {},
   "outputs": [],
   "source": [
    "print(len(end_to_end))\n",
    "print(len(polymers.end_to_end))"
   ]
  },
  {
   "cell_type": "code",
   "execution_count": null,
   "id": "0cec4bda-8da2-47c0-a868-27d28597ab4f",
   "metadata": {},
   "outputs": [],
   "source": [
    "print(c[:,49])"
   ]
  },
  {
   "cell_type": "markdown",
   "id": "96627cab-74b9-43e7-8d18-b95e1046be39",
   "metadata": {},
   "source": [
    "## PERM"
   ]
  },
  {
   "cell_type": "code",
   "execution_count": null,
   "id": "3af4df54-3f4e-4288-8d49-2dad2a9e36a3",
   "metadata": {},
   "outputs": [],
   "source": [
    "polymers = Dish(dim, origin)\n",
    "polymers.PERM(N, 2, L)\n",
    "\n",
    "end_to_end = expect_observ(polymers.end_to_end, polymers.weights)\n",
    "error_end_to_end = error_observ(polymers.end_to_end, polymers.weights, len(polymers.end_to_end))\n",
    "gyration = expect_observ(polymers.gyration, polymers.weights)\n",
    "error_gyration = error_observ(polymers.gyration, polymers.weights, len(polymers.gyration))\n",
    "length = np.arange(1, len(end_to_end)+1, 1, dtype=int)"
   ]
  },
  {
   "cell_type": "code",
   "execution_count": null,
   "id": "fb320ad5-5d45-4340-a706-13ef895d29df",
   "metadata": {},
   "outputs": [],
   "source": [
    "plt.figure(figsize=[15,8])\n",
    "plt.errorbar(length, end_to_end, error_end_to_end)\n",
    "plt.grid()\n",
    "plt.show()"
   ]
  },
  {
   "cell_type": "code",
   "execution_count": null,
   "id": "262624fe-400e-4ffe-89b7-df0a728d380e",
   "metadata": {},
   "outputs": [],
   "source": [
    "q = np.array([0,1,2,-1])\n",
    "print(q < 0)\n",
    "if any(q < 0):\n",
    "    print('bla')"
   ]
  },
  {
   "cell_type": "markdown",
   "id": "62657a6d-4c6b-4630-86e5-dbb7afc62de0",
   "metadata": {},
   "source": [
    "# Debugging\n",
    "For some reason the weight calculated for the Rosenbluth methode is negative (this should be imposible)\\\n",
    "\\\n",
    "To identify the problem I printed the weights calculated by anayse_polymers and looked for a polymer which had a negative weight at one of its nodes, and then tried to figure out where the weight becomes negative."
   ]
  },
  {
   "cell_type": "code",
   "execution_count": null,
   "id": "d8e6fb69-ce24-414d-9510-7a6a8678c73b",
   "metadata": {},
   "outputs": [],
   "source": [
    "dim = (5, 5)\n",
    "origin = (0, 0)\n",
    "N = 300\n",
    "L = 60"
   ]
  },
  {
   "cell_type": "code",
   "execution_count": null,
   "id": "5308d8fc-02ea-474d-b612-c289c63c5735",
   "metadata": {},
   "outputs": [],
   "source": [
    "polymers = Dish(dim, origin)\n",
    "polymers.find_N_polymer(N, L)\n",
    "polymers.analyse_polymers(L)\n",
    "\n",
    "if any(polymers.weights[2] < 0):\n",
    "    print('negative weights pressent')"
   ]
  },
  {
   "cell_type": "code",
   "execution_count": null,
   "id": "6d87218a-1abf-4820-8976-c90096398381",
   "metadata": {},
   "outputs": [],
   "source": [
    "print(len(polymers.polymers))\n",
    "print(polymers.weights)"
   ]
  },
  {
   "cell_type": "code",
   "execution_count": null,
   "id": "713e7c66-8925-4733-af3b-aaa987139caa",
   "metadata": {},
   "outputs": [],
   "source": [
    "print(polymers.polymers[2].node_m_vals)"
   ]
  },
  {
   "cell_type": "code",
   "execution_count": null,
   "id": "de3f8ee9-a09d-4a81-b519-d28cc6df600e",
   "metadata": {},
   "outputs": [],
   "source": [
    "Polymer.compute_node_weights(polymers.polymers[2])\n",
    "print(polymers.polymers[2].node_weights)"
   ]
  },
  {
   "cell_type": "markdown",
   "id": "3bd2ddbb-5d54-482b-bbd2-d75734d58188",
   "metadata": {},
   "source": [
    "## Something is going wrong between Dish.anlyse_polymers and Polymers.compute_node_weights\n",
    "\n",
    "When the weights of the nodes is calculated by compute_node_weights some of the weights become negative, eventhough two positive numbers are multiplied. This happens only when the weights become very large."
   ]
  },
  {
   "cell_type": "code",
   "execution_count": null,
   "id": "0fa58f67-ad9d-428e-be7e-6528106a1308",
   "metadata": {},
   "outputs": [],
   "source": [
    "m = polymers.polymers[0].node_m_vals\n",
    "\n",
    "w_ = np.array([])\n",
    "\n",
    "for i in range(len(m)):\n",
    "    w_ = np.append(w_, np.prod(np.array(m[0:i+1])))\n",
    "\n",
    "print(m)\n",
    "print(w_)\n",
    "print('-----------------------------------')\n",
    "\n",
    "v_ = np.array([])\n",
    "\n",
    "for i in range(len(m)):\n",
    "    if i == 0:\n",
    "        v_ = np.append(v_, m[0])\n",
    "    else:\n",
    "        v_ = np.append(w_, w_[-1]*m[i])\n",
    "\n",
    "print(v_)"
   ]
  },
  {
   "cell_type": "code",
   "execution_count": null,
   "id": "f74e8795-01e5-4e26-b0f7-42b33935bf9f",
   "metadata": {},
   "outputs": [],
   "source": [
    "print(w_[45], w_[46])\n",
    "print(m[45], m[46])\n",
    "print(w_[45]*m[46])"
   ]
  },
  {
   "cell_type": "markdown",
   "id": "4a25b251-e604-4db7-9a7a-750f415c906d",
   "metadata": {},
   "source": [
    "## ?????????????????????????????????????\n",
    "When performing the calculations in the for loop it gives a negative value, but when it is done outside the for loop it is positive\n",
    "## ?????????????????????????????????????"
   ]
  },
  {
   "cell_type": "code",
   "execution_count": null,
   "id": "5e850f2f-a754-41e3-bfa3-2245f76d906a",
   "metadata": {},
   "outputs": [],
   "source": [
    "a, b, c = polymers.analyse_polymers(L)\n",
    "end_to_end = expect_observ(a, c)\n",
    "error_end_to_end = error_observ(a, c, len(polymers.end_to_end))\n",
    "gyration = expect_observ(b, c)\n",
    "error_gyration = error_observ(b, c, len(polymers.gyration))\n",
    "length = np.arange(1, len(end_to_end)+1, 1, dtype=int)"
   ]
  },
  {
   "cell_type": "code",
   "execution_count": null,
   "id": "2d02f70b-1bb3-40d2-9679-9eab3155ac35",
   "metadata": {},
   "outputs": [],
   "source": [
    "print(np.log(abs(np.array([-1, 3, 5, 1, 7]))))"
   ]
  },
  {
   "cell_type": "code",
   "execution_count": null,
   "id": "af6b01dd-509a-40b3-bc07-0379f5d58d99",
   "metadata": {},
   "outputs": [],
   "source": []
  }
 ],
 "metadata": {
  "kernelspec": {
   "display_name": "Python 3 (ipykernel)",
   "language": "python",
   "name": "python3"
  },
  "language_info": {
   "codemirror_mode": {
    "name": "ipython",
    "version": 3
   },
   "file_extension": ".py",
   "mimetype": "text/x-python",
   "name": "python",
   "nbconvert_exporter": "python",
   "pygments_lexer": "ipython3",
   "version": "3.9.7"
  }
 },
 "nbformat": 4,
 "nbformat_minor": 5
}
