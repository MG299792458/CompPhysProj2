{
 "cells": [
  {
   "cell_type": "code",
   "execution_count": 1,
   "metadata": {},
   "outputs": [],
   "source": [
    "from polpymer.core_funcs import Polymer, Monomer, Dish\n",
    "from polpymer.data_funcs import plot_polymer, grow_polymer, \\\n",
    "     generate_N_polymers, expect_observ, error_observ\n",
    "import numpy as np\n",
    "import matplotlib.pyplot as plt"
   ]
  },
  {
   "cell_type": "code",
   "execution_count": 2,
   "metadata": {},
   "outputs": [
    {
     "name": "stdout",
     "output_type": "stream",
     "text": [
      "None\n"
     ]
    }
   ],
   "source": [
    "\"\"\" We can start a new Polymer object with a starting Monomer(angle) where angle is {0,1,2,3} for 0*90, 1*90, 2*90, 3*90 degrees\n",
    "\n",
    "Here we start the chain with a monomer to the right\n",
    "\"\"\"\n",
    "first_monomer = Monomer(0)\n",
    "\n",
    "polymer = Polymer((10,10), (5,5))\n",
    "print(first_monomer.end_location)"
   ]
  },
  {
   "cell_type": "code",
   "execution_count": 3,
   "metadata": {},
   "outputs": [
    {
     "name": "stdout",
     "output_type": "stream",
     "text": [
      "(4, 5)\n",
      "(5, 5)\n"
     ]
    }
   ],
   "source": [
    "print(polymer.chain_end)\n",
    "print(polymer.chain_start)"
   ]
  },
  {
   "cell_type": "code",
   "execution_count": 4,
   "metadata": {},
   "outputs": [
    {
     "name": "stdout",
     "output_type": "stream",
     "text": [
      "(4, 4)\n"
     ]
    }
   ],
   "source": [
    "polymer.add_monomer(3) # add monomer down\n",
    "print(polymer.chain_end)"
   ]
  },
  {
   "cell_type": "code",
   "execution_count": 5,
   "metadata": {},
   "outputs": [
    {
     "name": "stdout",
     "output_type": "stream",
     "text": [
      "(3, 4)\n",
      "(3, 5)\n"
     ]
    }
   ],
   "source": [
    "\"\"\"\n",
    "Since we dont want our Polymer to close we see that we get an arrow if we now\n",
    "add further monomers that go to the left and up again\n",
    "\"\"\"\n",
    "\n",
    "polymer.add_monomer(2) # add monomer to the left\n",
    "print(polymer.chain_end)\n",
    "try:\n",
    "    polymer.add_monomer(1) # add monomer up (should error out)\n",
    "except:\n",
    "    print('Could not add monomer')\n",
    "print(polymer.chain_end)"
   ]
  },
  {
   "cell_type": "code",
   "execution_count": 6,
   "metadata": {},
   "outputs": [
    {
     "data": {
      "image/png": "[encoded data removed]",
      "text/plain": [
       "<Figure size 432x288 with 1 Axes>"
      ]
     },
     "metadata": {
      "needs_background": "light"
     },
     "output_type": "display_data"
    }
   ],
   "source": [
    "plot_polymer(polymer)"
   ]
  },
  {
   "cell_type": "code",
   "execution_count": 7,
   "metadata": {},
   "outputs": [
    {
     "name": "stdout",
     "output_type": "stream",
     "text": [
      "Monomer from (5, 5) to (4, 5) angle = 2\n",
      "Monomer from (4, 5) to (4, 4) angle = 3\n",
      "Monomer from (4, 4) to (3, 4) angle = 2\n",
      "Monomer from (3, 4) to (3, 5) angle = 1\n"
     ]
    }
   ],
   "source": [
    "for monomer in polymer:\n",
    "    print(monomer, \"angle = {}\".format(monomer.angle))"
   ]
  },
  {
   "cell_type": "code",
   "execution_count": 8,
   "metadata": {},
   "outputs": [],
   "source": [
    "polymer1 = Polymer((10,10), (5,5))"
   ]
  },
  {
   "cell_type": "code",
   "execution_count": 9,
   "metadata": {},
   "outputs": [
    {
     "ename": "Exception",
     "evalue": "Proposed monomer's end location already a node of polymer",
     "output_type": "error",
     "traceback": [
      "\u001b[1;31m---------------------------------------------------------------------------\u001b[0m",
      "\u001b[1;31mException\u001b[0m                                 Traceback (most recent call last)",
      "\u001b[1;32m~\\AppData\\Local\\Temp/ipykernel_22764/3192295304.py\u001b[0m in \u001b[0;36m<module>\u001b[1;34m\u001b[0m\n\u001b[0;32m      4\u001b[0m \u001b[1;33m\u001b[0m\u001b[0m\n\u001b[0;32m      5\u001b[0m \u001b[1;32mfor\u001b[0m \u001b[0mi\u001b[0m \u001b[1;32min\u001b[0m \u001b[0mrandom_angles\u001b[0m\u001b[1;33m:\u001b[0m\u001b[1;33m\u001b[0m\u001b[1;33m\u001b[0m\u001b[0m\n\u001b[1;32m----> 6\u001b[1;33m     \u001b[0mpolymer1\u001b[0m\u001b[1;33m.\u001b[0m\u001b[0madd_monomer\u001b[0m\u001b[1;33m(\u001b[0m\u001b[0mi\u001b[0m\u001b[1;33m)\u001b[0m\u001b[1;33m\u001b[0m\u001b[1;33m\u001b[0m\u001b[0m\n\u001b[0m",
      "\u001b[1;32mc:\\Users\\Jeroe\\Documents\\TU Delft\\AP3082 Computational Physics\\project-2\\polpymer\\core_funcs.py\u001b[0m in \u001b[0;36madd_monomer\u001b[1;34m(self, ang, loc)\u001b[0m\n\u001b[0;32m    222\u001b[0m             \u001b[0mself\u001b[0m\u001b[1;33m.\u001b[0m\u001b[0mclaimed_sites\u001b[0m\u001b[1;33m.\u001b[0m\u001b[0mappend\u001b[0m\u001b[1;33m(\u001b[0m\u001b[0mself\u001b[0m\u001b[1;33m.\u001b[0m\u001b[0mchain_end\u001b[0m\u001b[1;33m)\u001b[0m\u001b[1;33m\u001b[0m\u001b[1;33m\u001b[0m\u001b[0m\n\u001b[0;32m    223\u001b[0m         \u001b[1;32melse\u001b[0m\u001b[1;33m:\u001b[0m\u001b[1;33m\u001b[0m\u001b[1;33m\u001b[0m\u001b[0m\n\u001b[1;32m--> 224\u001b[1;33m             \u001b[1;32mraise\u001b[0m \u001b[0mException\u001b[0m\u001b[1;33m(\u001b[0m\u001b[1;34m\"Proposed monomer's end location already a node of polymer\"\u001b[0m\u001b[1;33m)\u001b[0m\u001b[1;33m\u001b[0m\u001b[1;33m\u001b[0m\u001b[0m\n\u001b[0m\u001b[0;32m    225\u001b[0m \u001b[1;33m\u001b[0m\u001b[0m\n\u001b[0;32m    226\u001b[0m \u001b[1;33m\u001b[0m\u001b[0m\n",
      "\u001b[1;31mException\u001b[0m: Proposed monomer's end location already a node of polymer"
     ]
    }
   ],
   "source": [
    "from random import randint\n",
    "\n",
    "random_angles = [randint(0,3) for i in range(10)]\n",
    "\n",
    "for i in random_angles:\n",
    "    polymer1.add_monomer(i)"
   ]
  },
  {
   "cell_type": "code",
   "execution_count": 10,
   "metadata": {},
   "outputs": [
    {
     "data": {
      "image/png": "[encoded data removed]",
      "text/plain": [
       "<Figure size 432x288 with 1 Axes>"
      ]
     },
     "metadata": {
      "needs_background": "light"
     },
     "output_type": "display_data"
    }
   ],
   "source": [
    "plot_polymer(polymer1)"
   ]
  },
  {
   "cell_type": "code",
   "execution_count": 11,
   "metadata": {},
   "outputs": [
    {
     "name": "stdout",
     "output_type": "stream",
     "text": [
      "The polymer grew to length 69\n"
     ]
    },
    {
     "data": {
      "text/plain": [
       "array([3., 3., 2., 3., 3., 3., 3., 2., 3., 3., 3., 3., 3., 3., 3., 3., 3.,\n",
       "       3., 2., 3., 1., 3., 2., 3., 3., 3., 3., 3., 3., 3., 2., 3., 3., 3.,\n",
       "       3., 2., 3., 3., 2., 3., 3., 3., 3., 3., 3., 2., 3., 3., 3., 3., 2.,\n",
       "       3., 3., 3., 3., 3., 3., 3., 2., 3., 3., 3., 3., 3., 3., 3., 3., 3.])"
      ]
     },
     "execution_count": 11,
     "metadata": {},
     "output_type": "execute_result"
    }
   ],
   "source": [
    "m, polymer2 = grow_polymer((20,20), (10,10), 200)\n",
    "m"
   ]
  },
  {
   "cell_type": "code",
   "execution_count": 12,
   "metadata": {},
   "outputs": [
    {
     "data": {
      "image/png": "[encoded data removed]",
      "text/plain": [
       "<Figure size 432x288 with 1 Axes>"
      ]
     },
     "metadata": {
      "needs_background": "light"
     },
     "output_type": "display_data"
    }
   ],
   "source": [
    "plot_polymer(polymer2)"
   ]
  },
  {
   "cell_type": "code",
   "execution_count": 13,
   "metadata": {},
   "outputs": [
    {
     "data": {
      "text/plain": [
       "69"
      ]
     },
     "execution_count": 13,
     "metadata": {},
     "output_type": "execute_result"
    }
   ],
   "source": [
    "polymer2.chain_length"
   ]
  },
  {
   "cell_type": "code",
   "execution_count": 14,
   "metadata": {},
   "outputs": [
    {
     "ename": "AttributeError",
     "evalue": "'Polymer' object has no attribute 'distance_end_start'",
     "output_type": "error",
     "traceback": [
      "\u001b[1;31m---------------------------------------------------------------------------\u001b[0m",
      "\u001b[1;31mAttributeError\u001b[0m                            Traceback (most recent call last)",
      "\u001b[1;32m~\\AppData\\Local\\Temp/ipykernel_22764/3785778072.py\u001b[0m in \u001b[0;36m<module>\u001b[1;34m\u001b[0m\n\u001b[0;32m      7\u001b[0m \u001b[1;32mfor\u001b[0m \u001b[0mi\u001b[0m \u001b[1;32min\u001b[0m \u001b[0mrange\u001b[0m\u001b[1;33m(\u001b[0m\u001b[0mN\u001b[0m\u001b[1;33m)\u001b[0m\u001b[1;33m:\u001b[0m\u001b[1;33m\u001b[0m\u001b[1;33m\u001b[0m\u001b[0m\n\u001b[0;32m      8\u001b[0m     \u001b[0mtest_m\u001b[0m\u001b[1;33m,\u001b[0m \u001b[0mtestpoly\u001b[0m \u001b[1;33m=\u001b[0m \u001b[0mgrow_polymer\u001b[0m\u001b[1;33m(\u001b[0m\u001b[1;33m(\u001b[0m\u001b[1;36m10\u001b[0m\u001b[1;33m,\u001b[0m\u001b[1;36m10\u001b[0m\u001b[1;33m)\u001b[0m\u001b[1;33m,\u001b[0m \u001b[1;33m(\u001b[0m\u001b[1;36m5\u001b[0m\u001b[1;33m,\u001b[0m\u001b[1;36m5\u001b[0m\u001b[1;33m)\u001b[0m\u001b[1;33m,\u001b[0m \u001b[0mL\u001b[0m\u001b[1;33m)\u001b[0m\u001b[1;33m\u001b[0m\u001b[1;33m\u001b[0m\u001b[0m\n\u001b[1;32m----> 9\u001b[1;33m     \u001b[0mend2end\u001b[0m\u001b[1;33m[\u001b[0m\u001b[0mi\u001b[0m\u001b[1;33m]\u001b[0m \u001b[1;33m=\u001b[0m \u001b[0mnp\u001b[0m\u001b[1;33m.\u001b[0m\u001b[0msqrt\u001b[0m\u001b[1;33m(\u001b[0m\u001b[0mtestpoly\u001b[0m\u001b[1;33m.\u001b[0m\u001b[0mdistance_end_start\u001b[0m\u001b[1;33m(\u001b[0m\u001b[1;33m)\u001b[0m\u001b[1;33m)\u001b[0m\u001b[1;33m\u001b[0m\u001b[1;33m\u001b[0m\u001b[0m\n\u001b[0m\u001b[0;32m     10\u001b[0m \u001b[1;33m\u001b[0m\u001b[0m\n\u001b[0;32m     11\u001b[0m \u001b[0mplt\u001b[0m\u001b[1;33m.\u001b[0m\u001b[0mhist\u001b[0m\u001b[1;33m(\u001b[0m\u001b[0mend2end\u001b[0m\u001b[1;33m)\u001b[0m\u001b[1;33m\u001b[0m\u001b[1;33m\u001b[0m\u001b[0m\n",
      "\u001b[1;31mAttributeError\u001b[0m: 'Polymer' object has no attribute 'distance_end_start'"
     ]
    }
   ],
   "source": [
    "\"\"\"\n",
    "run test to check if behaviour is as expected for random polymers of length 1, 2, 3\n",
    "\"\"\"\n",
    "N = 1000\n",
    "L = 2\n",
    "end2end = np.zeros(N)\n",
    "for i in range(N):\n",
    "    test_m, testpoly = grow_polymer((10,10), (5,5), L)\n",
    "    end2end[i] = np.sqrt(testpoly.distance_end_start())\n",
    "\n",
    "plt.hist(end2end)\n",
    "plt.savefig('Figures/end2endDistribution_L={}'.format(L))\n",
    "\n",
    "\"Distribution of end to end distances is as expected for these lengths\""
   ]
  },
  {
   "cell_type": "code",
   "execution_count": 15,
   "metadata": {},
   "outputs": [
    {
     "name": "stdout",
     "output_type": "stream",
     "text": [
      "The polymer grew to length 7\n"
     ]
    }
   ],
   "source": [
    "end_to_end, gyration, weights = generate_N_polymers(70, 10, (10,10), (5,5))\n",
    "end_to_end_weighted_avg = expect_observ(end_to_end, weights)\n",
    "end_to_end_err = error_observ(end_to_end, weights, 5)"
   ]
  },
  {
   "cell_type": "code",
   "execution_count": 16,
   "metadata": {},
   "outputs": [],
   "source": [
    "polymer = Polymer((10,10), (5,5))\n",
    "polymer.grow_polymer(40)"
   ]
  },
  {
   "cell_type": "code",
   "execution_count": 17,
   "metadata": {},
   "outputs": [
    {
     "data": {
      "image/png": "[encoded data removed]",
      "text/plain": [
       "<Figure size 432x288 with 1 Axes>"
      ]
     },
     "metadata": {
      "needs_background": "light"
     },
     "output_type": "display_data"
    }
   ],
   "source": [
    "plot_polymer(polymer)"
   ]
  },
  {
   "cell_type": "code",
   "execution_count": 18,
   "metadata": {},
   "outputs": [],
   "source": [
    "end, gyr = polymer.observables()"
   ]
  },
  {
   "cell_type": "code",
   "execution_count": 19,
   "metadata": {},
   "outputs": [
    {
     "name": "stdout",
     "output_type": "stream",
     "text": [
      "[  1.   4.   5.   8.  13.  20.  29.  40.  53.  50.  49.  36.  37.  26.\n",
      "  17.  10.   5.   4.   5.   2.   5.   8.  13.  20.  25.  32.  41.  50.\n",
      "  61.  74.  89. 100. 117. 130. 113.  98.  85.  72.  61.]\n",
      "[ 0.          0.25        0.66666667  0.875       1.28        1.91666667\n",
      "  2.7755102   3.84375     5.11111111  6.57        7.47107438  8.16666667\n",
      "  8.14201183  7.92346939  7.48444444  7.0234375   6.66435986  6.4845679\n",
      "  6.38227147  6.43        6.63038549  6.98553719  7.10018904  7.10763889\n",
      "  7.1072      7.3091716   7.739369    8.16836735  8.82520809  9.50777778\n",
      " 10.26847034 11.1484375  12.19467401 13.36072664 14.68734694 15.61728395\n",
      " 16.26004383 16.70706371 16.83892176]\n"
     ]
    }
   ],
   "source": [
    "print(end)\n",
    "print(gyr)"
   ]
  },
  {
   "cell_type": "code",
   "execution_count": 20,
   "metadata": {},
   "outputs": [],
   "source": [
    "dish = Dish((10,10), (5,5))\n"
   ]
  },
  {
   "cell_type": "code",
   "execution_count": 23,
   "metadata": {},
   "outputs": [],
   "source": [
    "dish.find_N_polymer(100, 30)"
   ]
  },
  {
   "cell_type": "code",
   "execution_count": 24,
   "metadata": {},
   "outputs": [
    {
     "data": {
      "text/plain": [
       "[<polpymer.core_funcs.Polymer at 0x28fc0038400>,\n",
       " <polpymer.core_funcs.Polymer at 0x28fc0038700>,\n",
       " <polpymer.core_funcs.Polymer at 0x28fc00fb190>,\n",
       " <polpymer.core_funcs.Polymer at 0x28fc00fbd00>,\n",
       " <polpymer.core_funcs.Polymer at 0x28fc010a8b0>,\n",
       " <polpymer.core_funcs.Polymer at 0x28fc010d460>,\n",
       " <polpymer.core_funcs.Polymer at 0x28fc010dcd0>,\n",
       " <polpymer.core_funcs.Polymer at 0x28fc0111340>,\n",
       " <polpymer.core_funcs.Polymer at 0x28fc0111eb0>,\n",
       " <polpymer.core_funcs.Polymer at 0x28fc01148b0>,\n",
       " <polpymer.core_funcs.Polymer at 0x28fc0115460>,\n",
       " <polpymer.core_funcs.Polymer at 0x28fc0115fd0>,\n",
       " <polpymer.core_funcs.Polymer at 0x28fc0119b80>,\n",
       " <polpymer.core_funcs.Polymer at 0x28fc011c730>,\n",
       " <polpymer.core_funcs.Polymer at 0x28fc011f2e0>,\n",
       " <polpymer.core_funcs.Polymer at 0x28fc011fe50>,\n",
       " <polpymer.core_funcs.Polymer at 0x28fc0122a00>,\n",
       " <polpymer.core_funcs.Polymer at 0x28fc0122cd0>,\n",
       " <polpymer.core_funcs.Polymer at 0x28fc0125880>,\n",
       " <polpymer.core_funcs.Polymer at 0x28fc0129430>,\n",
       " <polpymer.core_funcs.Polymer at 0x28fc0129fa0>,\n",
       " <polpymer.core_funcs.Polymer at 0x28fc012cb50>,\n",
       " <polpymer.core_funcs.Polymer at 0x28fc012f700>,\n",
       " <polpymer.core_funcs.Polymer at 0x28fc01320d0>,\n",
       " <polpymer.core_funcs.Polymer at 0x28fc0132c40>,\n",
       " <polpymer.core_funcs.Polymer at 0x28fc01357f0>,\n",
       " <polpymer.core_funcs.Polymer at 0x28fc01383a0>,\n",
       " <polpymer.core_funcs.Polymer at 0x28fc0138f10>,\n",
       " <polpymer.core_funcs.Polymer at 0x28fc013cac0>,\n",
       " <polpymer.core_funcs.Polymer at 0x28fc013f670>,\n",
       " <polpymer.core_funcs.Polymer at 0x28fc0142220>,\n",
       " <polpymer.core_funcs.Polymer at 0x28fc0142d90>,\n",
       " <polpymer.core_funcs.Polymer at 0x28fc0145940>,\n",
       " <polpymer.core_funcs.Polymer at 0x28fc0148310>,\n",
       " <polpymer.core_funcs.Polymer at 0x28fc0148e80>,\n",
       " <polpymer.core_funcs.Polymer at 0x28fc014ca30>,\n",
       " <polpymer.core_funcs.Polymer at 0x28fc01505e0>,\n",
       " <polpymer.core_funcs.Polymer at 0x28fc0153190>,\n",
       " <polpymer.core_funcs.Polymer at 0x28fc0153d00>,\n",
       " <polpymer.core_funcs.Polymer at 0x28fc01568b0>,\n",
       " <polpymer.core_funcs.Polymer at 0x28fc0159460>,\n",
       " <polpymer.core_funcs.Polymer at 0x28fc0159fd0>,\n",
       " <polpymer.core_funcs.Polymer at 0x28fc015db80>,\n",
       " <polpymer.core_funcs.Polymer at 0x28fc0160730>,\n",
       " <polpymer.core_funcs.Polymer at 0x28fc0160e20>,\n",
       " <polpymer.core_funcs.Polymer at 0x28fc01639d0>,\n",
       " <polpymer.core_funcs.Polymer at 0x28fc0166580>,\n",
       " <polpymer.core_funcs.Polymer at 0x28fc0169130>,\n",
       " <polpymer.core_funcs.Polymer at 0x28fc0169ca0>,\n",
       " <polpymer.core_funcs.Polymer at 0x28fc016d850>,\n",
       " <polpymer.core_funcs.Polymer at 0x28fc016dd00>,\n",
       " <polpymer.core_funcs.Polymer at 0x28fc01718b0>,\n",
       " <polpymer.core_funcs.Polymer at 0x28fbfd53f40>,\n",
       " <polpymer.core_funcs.Polymer at 0x28fc0174ee0>,\n",
       " <polpymer.core_funcs.Polymer at 0x28fc0178730>,\n",
       " <polpymer.core_funcs.Polymer at 0x28fc017a2e0>,\n",
       " <polpymer.core_funcs.Polymer at 0x28fc017ae50>,\n",
       " <polpymer.core_funcs.Polymer at 0x28fc017ea00>,\n",
       " <polpymer.core_funcs.Polymer at 0x28fc01805b0>,\n",
       " <polpymer.core_funcs.Polymer at 0x28fc0180b80>,\n",
       " <polpymer.core_funcs.Polymer at 0x28fc0184730>,\n",
       " <polpymer.core_funcs.Polymer at 0x28fc01882e0>,\n",
       " <polpymer.core_funcs.Polymer at 0x28fc0188e50>,\n",
       " <polpymer.core_funcs.Polymer at 0x28fc018ca00>,\n",
       " <polpymer.core_funcs.Polymer at 0x28fc018f5b0>,\n",
       " <polpymer.core_funcs.Polymer at 0x28fc0192160>,\n",
       " <polpymer.core_funcs.Polymer at 0x28fc0192cd0>,\n",
       " <polpymer.core_funcs.Polymer at 0x28fc0195880>,\n",
       " <polpymer.core_funcs.Polymer at 0x28fc0199430>,\n",
       " <polpymer.core_funcs.Polymer at 0x28fc0199fa0>,\n",
       " <polpymer.core_funcs.Polymer at 0x28fc019c730>,\n",
       " <polpymer.core_funcs.Polymer at 0x28fc019f2e0>,\n",
       " <polpymer.core_funcs.Polymer at 0x28fc019f670>,\n",
       " <polpymer.core_funcs.Polymer at 0x28fc01a2220>,\n",
       " <polpymer.core_funcs.Polymer at 0x28fc01a2d90>,\n",
       " <polpymer.core_funcs.Polymer at 0x28fc01a6940>,\n",
       " <polpymer.core_funcs.Polymer at 0x28fc01a94f0>,\n",
       " <polpymer.core_funcs.Polymer at 0x28fc01ad0a0>,\n",
       " <polpymer.core_funcs.Polymer at 0x28fc01adc10>,\n",
       " <polpymer.core_funcs.Polymer at 0x28fc01b07c0>,\n",
       " <polpymer.core_funcs.Polymer at 0x28fc01b0fd0>,\n",
       " <polpymer.core_funcs.Polymer at 0x28fc01b3b80>,\n",
       " <polpymer.core_funcs.Polymer at 0x28fc01b6730>,\n",
       " <polpymer.core_funcs.Polymer at 0x28fc01b92e0>,\n",
       " <polpymer.core_funcs.Polymer at 0x28fc01b9e50>,\n",
       " <polpymer.core_funcs.Polymer at 0x28fc01bca00>,\n",
       " <polpymer.core_funcs.Polymer at 0x28fc01c05b0>,\n",
       " <polpymer.core_funcs.Polymer at 0x28fc01c3160>,\n",
       " <polpymer.core_funcs.Polymer at 0x28fc01c3cd0>,\n",
       " <polpymer.core_funcs.Polymer at 0x28fc01c7880>,\n",
       " <polpymer.core_funcs.Polymer at 0x28fc01ca430>,\n",
       " <polpymer.core_funcs.Polymer at 0x28fc01cafa0>,\n",
       " <polpymer.core_funcs.Polymer at 0x28fc01cd370>,\n",
       " <polpymer.core_funcs.Polymer at 0x28fc01cdee0>,\n",
       " <polpymer.core_funcs.Polymer at 0x28fc01d0a90>,\n",
       " <polpymer.core_funcs.Polymer at 0x28fc01d4640>,\n",
       " <polpymer.core_funcs.Polymer at 0x28fc01d71f0>,\n",
       " <polpymer.core_funcs.Polymer at 0x28fc01d7d60>,\n",
       " <polpymer.core_funcs.Polymer at 0x28fc01da910>,\n",
       " <polpymer.core_funcs.Polymer at 0x28fc01dd4c0>,\n",
       " <polpymer.core_funcs.Polymer at 0x28fc01e1070>,\n",
       " <polpymer.core_funcs.Polymer at 0x28fc01e1be0>,\n",
       " <polpymer.core_funcs.Polymer at 0x28fc01e6790>,\n",
       " <polpymer.core_funcs.Polymer at 0x28fc01e9340>,\n",
       " <polpymer.core_funcs.Polymer at 0x28fc01e9eb0>,\n",
       " <polpymer.core_funcs.Polymer at 0x28fc01eca60>,\n",
       " <polpymer.core_funcs.Polymer at 0x28fc01ef190>,\n",
       " <polpymer.core_funcs.Polymer at 0x28fc01efd00>,\n",
       " <polpymer.core_funcs.Polymer at 0x28fc01f28b0>,\n",
       " <polpymer.core_funcs.Polymer at 0x28fc01f2e20>,\n",
       " <polpymer.core_funcs.Polymer at 0x28fc01f59d0>,\n",
       " <polpymer.core_funcs.Polymer at 0x28fc01f8580>,\n",
       " <polpymer.core_funcs.Polymer at 0x28fc01fc130>,\n",
       " <polpymer.core_funcs.Polymer at 0x28fc01fcca0>,\n",
       " <polpymer.core_funcs.Polymer at 0x28fc0200850>,\n",
       " <polpymer.core_funcs.Polymer at 0x28fc0203400>]"
      ]
     },
     "execution_count": 24,
     "metadata": {},
     "output_type": "execute_result"
    }
   ],
   "source": [
    "dish.polymers"
   ]
  },
  {
   "cell_type": "code",
   "execution_count": 25,
   "metadata": {},
   "outputs": [],
   "source": [
    "weights = dish.weights\n",
    "observ = dish.end_to_end\n"
   ]
  },
  {
   "cell_type": "code",
   "execution_count": 26,
   "metadata": {},
   "outputs": [
    {
     "ename": "TypeError",
     "evalue": "unsupported operand type(s) for *: 'NoneType' and 'NoneType'",
     "output_type": "error",
     "traceback": [
      "\u001b[1;31m---------------------------------------------------------------------------\u001b[0m",
      "\u001b[1;31mTypeError\u001b[0m                                 Traceback (most recent call last)",
      "\u001b[1;32m~\\AppData\\Local\\Temp/ipykernel_22764/459386697.py\u001b[0m in \u001b[0;36m<module>\u001b[1;34m\u001b[0m\n\u001b[1;32m----> 1\u001b[1;33m \u001b[0mend_to_end_weighted_avg\u001b[0m \u001b[1;33m=\u001b[0m \u001b[0mexpect_observ\u001b[0m\u001b[1;33m(\u001b[0m\u001b[0mobserv\u001b[0m\u001b[1;33m,\u001b[0m \u001b[0mweights\u001b[0m\u001b[1;33m)\u001b[0m\u001b[1;33m\u001b[0m\u001b[1;33m\u001b[0m\u001b[0m\n\u001b[0m\u001b[0;32m      2\u001b[0m \u001b[0mend_to_end_err\u001b[0m \u001b[1;33m=\u001b[0m \u001b[0merror_observ\u001b[0m\u001b[1;33m(\u001b[0m\u001b[0mobserv\u001b[0m\u001b[1;33m,\u001b[0m \u001b[0mweights\u001b[0m\u001b[1;33m,\u001b[0m \u001b[1;36m5\u001b[0m\u001b[1;33m)\u001b[0m\u001b[1;33m\u001b[0m\u001b[1;33m\u001b[0m\u001b[0m\n",
      "\u001b[1;32mc:\\Users\\Jeroe\\Documents\\TU Delft\\AP3082 Computational Physics\\project-2\\polpymer\\data_funcs.py\u001b[0m in \u001b[0;36mexpect_observ\u001b[1;34m(observ, w)\u001b[0m\n\u001b[0;32m    338\u001b[0m     \"\"\"\n\u001b[0;32m    339\u001b[0m \u001b[1;33m\u001b[0m\u001b[0m\n\u001b[1;32m--> 340\u001b[1;33m     \u001b[0mstep_1\u001b[0m \u001b[1;33m=\u001b[0m \u001b[0mw\u001b[0m \u001b[1;33m*\u001b[0m \u001b[0mobserv\u001b[0m\u001b[1;33m\u001b[0m\u001b[1;33m\u001b[0m\u001b[0m\n\u001b[0m\u001b[0;32m    341\u001b[0m     \u001b[0mstep_2a\u001b[0m \u001b[1;33m=\u001b[0m \u001b[0mnp\u001b[0m\u001b[1;33m.\u001b[0m\u001b[0msum\u001b[0m\u001b[1;33m(\u001b[0m\u001b[0mstep_1\u001b[0m\u001b[1;33m,\u001b[0m \u001b[0maxis\u001b[0m\u001b[1;33m=\u001b[0m\u001b[1;36m0\u001b[0m\u001b[1;33m)\u001b[0m\u001b[1;33m\u001b[0m\u001b[1;33m\u001b[0m\u001b[0m\n\u001b[0;32m    342\u001b[0m     \u001b[0mstep_2b\u001b[0m \u001b[1;33m=\u001b[0m \u001b[0mnp\u001b[0m\u001b[1;33m.\u001b[0m\u001b[0msum\u001b[0m\u001b[1;33m(\u001b[0m\u001b[0mw\u001b[0m\u001b[1;33m,\u001b[0m \u001b[0maxis\u001b[0m\u001b[1;33m=\u001b[0m\u001b[1;36m0\u001b[0m\u001b[1;33m)\u001b[0m\u001b[1;33m\u001b[0m\u001b[1;33m\u001b[0m\u001b[0m\n",
      "\u001b[1;31mTypeError\u001b[0m: unsupported operand type(s) for *: 'NoneType' and 'NoneType'"
     ]
    }
   ],
   "source": [
    "\n",
    "end_to_end_weighted_avg = expect_observ(observ, weights)\n",
    "end_to_end_err = error_observ(observ, weights, 5)"
   ]
  },
  {
   "cell_type": "code",
   "execution_count": 27,
   "metadata": {},
   "outputs": [],
   "source": [
    "def scaling_law(L, dims):\n",
    "    ls = np.arange(L)+1\n",
    "    exponent = 2*3/4\n",
    "\n",
    "    return ls**exponent"
   ]
  },
  {
   "cell_type": "code",
   "execution_count": 28,
   "metadata": {},
   "outputs": [],
   "source": [
    "exp_behaviour = scaling_law(30, 2)"
   ]
  },
  {
   "cell_type": "code",
   "execution_count": 29,
   "metadata": {},
   "outputs": [
    {
     "ename": "ValueError",
     "evalue": "'x' and 'y' must have the same size",
     "output_type": "error",
     "traceback": [
      "\u001b[1;31m---------------------------------------------------------------------------\u001b[0m",
      "\u001b[1;31mValueError\u001b[0m                                Traceback (most recent call last)",
      "\u001b[1;32m~\\AppData\\Local\\Temp/ipykernel_22764/3495620348.py\u001b[0m in \u001b[0;36m<module>\u001b[1;34m\u001b[0m\n\u001b[0;32m      1\u001b[0m \u001b[0mplt\u001b[0m\u001b[1;33m.\u001b[0m\u001b[0mplot\u001b[0m\u001b[1;33m(\u001b[0m\u001b[0mnp\u001b[0m\u001b[1;33m.\u001b[0m\u001b[0marange\u001b[0m\u001b[1;33m(\u001b[0m\u001b[1;36m30\u001b[0m\u001b[1;33m)\u001b[0m\u001b[1;33m,\u001b[0m\u001b[0mexp_behaviour\u001b[0m\u001b[1;33m,\u001b[0m \u001b[0mlabel\u001b[0m\u001b[1;33m=\u001b[0m\u001b[1;34mr'exp.'\u001b[0m\u001b[1;33m)\u001b[0m\u001b[1;33m\u001b[0m\u001b[1;33m\u001b[0m\u001b[0m\n\u001b[1;32m----> 2\u001b[1;33m \u001b[0mplt\u001b[0m\u001b[1;33m.\u001b[0m\u001b[0merrorbar\u001b[0m\u001b[1;33m(\u001b[0m\u001b[0mnp\u001b[0m\u001b[1;33m.\u001b[0m\u001b[0marange\u001b[0m\u001b[1;33m(\u001b[0m\u001b[1;36m29\u001b[0m\u001b[1;33m)\u001b[0m\u001b[1;33m,\u001b[0m \u001b[0mend_to_end_weighted_avg\u001b[0m\u001b[1;33m,\u001b[0m \u001b[0myerr\u001b[0m\u001b[1;33m=\u001b[0m\u001b[0mend_to_end_err\u001b[0m\u001b[1;33m,\u001b[0m \u001b[0mlabel\u001b[0m\u001b[1;33m=\u001b[0m\u001b[1;34mr'sim.'\u001b[0m\u001b[1;33m)\u001b[0m\u001b[1;33m\u001b[0m\u001b[1;33m\u001b[0m\u001b[0m\n\u001b[0m\u001b[0;32m      3\u001b[0m \u001b[0mplt\u001b[0m\u001b[1;33m.\u001b[0m\u001b[0mlegend\u001b[0m\u001b[1;33m(\u001b[0m\u001b[0mframeon\u001b[0m\u001b[1;33m=\u001b[0m\u001b[1;32mFalse\u001b[0m\u001b[1;33m)\u001b[0m\u001b[1;33m\u001b[0m\u001b[1;33m\u001b[0m\u001b[0m\n\u001b[0;32m      4\u001b[0m \u001b[0mplt\u001b[0m\u001b[1;33m.\u001b[0m\u001b[0mylabel\u001b[0m\u001b[1;33m(\u001b[0m\u001b[1;34mr\"$\\langle r_e^2(L) \\rangle$\"\u001b[0m\u001b[1;33m)\u001b[0m\u001b[1;33m\u001b[0m\u001b[1;33m\u001b[0m\u001b[0m\n\u001b[0;32m      5\u001b[0m \u001b[0mplt\u001b[0m\u001b[1;33m.\u001b[0m\u001b[0mxlabel\u001b[0m\u001b[1;33m(\u001b[0m\u001b[1;34mr\"Polymer length $L$ [$a$]\"\u001b[0m\u001b[1;33m)\u001b[0m\u001b[1;33m\u001b[0m\u001b[1;33m\u001b[0m\u001b[0m\n",
      "\u001b[1;32m~\\Python\\lib\\site-packages\\matplotlib\\pyplot.py\u001b[0m in \u001b[0;36merrorbar\u001b[1;34m(x, y, yerr, xerr, fmt, ecolor, elinewidth, capsize, barsabove, lolims, uplims, xlolims, xuplims, errorevery, capthick, data, **kwargs)\u001b[0m\n\u001b[0;32m   2602\u001b[0m         \u001b[0muplims\u001b[0m\u001b[1;33m=\u001b[0m\u001b[1;32mFalse\u001b[0m\u001b[1;33m,\u001b[0m \u001b[0mxlolims\u001b[0m\u001b[1;33m=\u001b[0m\u001b[1;32mFalse\u001b[0m\u001b[1;33m,\u001b[0m \u001b[0mxuplims\u001b[0m\u001b[1;33m=\u001b[0m\u001b[1;32mFalse\u001b[0m\u001b[1;33m,\u001b[0m \u001b[0merrorevery\u001b[0m\u001b[1;33m=\u001b[0m\u001b[1;36m1\u001b[0m\u001b[1;33m,\u001b[0m\u001b[1;33m\u001b[0m\u001b[1;33m\u001b[0m\u001b[0m\n\u001b[0;32m   2603\u001b[0m         capthick=None, *, data=None, **kwargs):\n\u001b[1;32m-> 2604\u001b[1;33m     return gca().errorbar(\n\u001b[0m\u001b[0;32m   2605\u001b[0m         \u001b[0mx\u001b[0m\u001b[1;33m,\u001b[0m \u001b[0my\u001b[0m\u001b[1;33m,\u001b[0m \u001b[0myerr\u001b[0m\u001b[1;33m=\u001b[0m\u001b[0myerr\u001b[0m\u001b[1;33m,\u001b[0m \u001b[0mxerr\u001b[0m\u001b[1;33m=\u001b[0m\u001b[0mxerr\u001b[0m\u001b[1;33m,\u001b[0m \u001b[0mfmt\u001b[0m\u001b[1;33m=\u001b[0m\u001b[0mfmt\u001b[0m\u001b[1;33m,\u001b[0m \u001b[0mecolor\u001b[0m\u001b[1;33m=\u001b[0m\u001b[0mecolor\u001b[0m\u001b[1;33m,\u001b[0m\u001b[1;33m\u001b[0m\u001b[1;33m\u001b[0m\u001b[0m\n\u001b[0;32m   2606\u001b[0m         \u001b[0melinewidth\u001b[0m\u001b[1;33m=\u001b[0m\u001b[0melinewidth\u001b[0m\u001b[1;33m,\u001b[0m \u001b[0mcapsize\u001b[0m\u001b[1;33m=\u001b[0m\u001b[0mcapsize\u001b[0m\u001b[1;33m,\u001b[0m \u001b[0mbarsabove\u001b[0m\u001b[1;33m=\u001b[0m\u001b[0mbarsabove\u001b[0m\u001b[1;33m,\u001b[0m\u001b[1;33m\u001b[0m\u001b[1;33m\u001b[0m\u001b[0m\n",
      "\u001b[1;32m~\\Python\\lib\\site-packages\\matplotlib\\__init__.py\u001b[0m in \u001b[0;36minner\u001b[1;34m(ax, data, *args, **kwargs)\u001b[0m\n\u001b[0;32m   1436\u001b[0m     \u001b[1;32mdef\u001b[0m \u001b[0minner\u001b[0m\u001b[1;33m(\u001b[0m\u001b[0max\u001b[0m\u001b[1;33m,\u001b[0m \u001b[1;33m*\u001b[0m\u001b[0margs\u001b[0m\u001b[1;33m,\u001b[0m \u001b[0mdata\u001b[0m\u001b[1;33m=\u001b[0m\u001b[1;32mNone\u001b[0m\u001b[1;33m,\u001b[0m \u001b[1;33m**\u001b[0m\u001b[0mkwargs\u001b[0m\u001b[1;33m)\u001b[0m\u001b[1;33m:\u001b[0m\u001b[1;33m\u001b[0m\u001b[1;33m\u001b[0m\u001b[0m\n\u001b[0;32m   1437\u001b[0m         \u001b[1;32mif\u001b[0m \u001b[0mdata\u001b[0m \u001b[1;32mis\u001b[0m \u001b[1;32mNone\u001b[0m\u001b[1;33m:\u001b[0m\u001b[1;33m\u001b[0m\u001b[1;33m\u001b[0m\u001b[0m\n\u001b[1;32m-> 1438\u001b[1;33m             \u001b[1;32mreturn\u001b[0m \u001b[0mfunc\u001b[0m\u001b[1;33m(\u001b[0m\u001b[0max\u001b[0m\u001b[1;33m,\u001b[0m \u001b[1;33m*\u001b[0m\u001b[0mmap\u001b[0m\u001b[1;33m(\u001b[0m\u001b[0msanitize_sequence\u001b[0m\u001b[1;33m,\u001b[0m \u001b[0margs\u001b[0m\u001b[1;33m)\u001b[0m\u001b[1;33m,\u001b[0m \u001b[1;33m**\u001b[0m\u001b[0mkwargs\u001b[0m\u001b[1;33m)\u001b[0m\u001b[1;33m\u001b[0m\u001b[1;33m\u001b[0m\u001b[0m\n\u001b[0m\u001b[0;32m   1439\u001b[0m \u001b[1;33m\u001b[0m\u001b[0m\n\u001b[0;32m   1440\u001b[0m         \u001b[0mbound\u001b[0m \u001b[1;33m=\u001b[0m \u001b[0mnew_sig\u001b[0m\u001b[1;33m.\u001b[0m\u001b[0mbind\u001b[0m\u001b[1;33m(\u001b[0m\u001b[0max\u001b[0m\u001b[1;33m,\u001b[0m \u001b[1;33m*\u001b[0m\u001b[0margs\u001b[0m\u001b[1;33m,\u001b[0m \u001b[1;33m**\u001b[0m\u001b[0mkwargs\u001b[0m\u001b[1;33m)\u001b[0m\u001b[1;33m\u001b[0m\u001b[1;33m\u001b[0m\u001b[0m\n",
      "\u001b[1;32m~\\Python\\lib\\site-packages\\matplotlib\\axes\\_axes.py\u001b[0m in \u001b[0;36merrorbar\u001b[1;34m(self, x, y, yerr, xerr, fmt, ecolor, elinewidth, capsize, barsabove, lolims, uplims, xlolims, xuplims, errorevery, capthick, **kwargs)\u001b[0m\n\u001b[0;32m   3296\u001b[0m \u001b[1;33m\u001b[0m\u001b[0m\n\u001b[0;32m   3297\u001b[0m         \u001b[1;32mif\u001b[0m \u001b[0mlen\u001b[0m\u001b[1;33m(\u001b[0m\u001b[0mx\u001b[0m\u001b[1;33m)\u001b[0m \u001b[1;33m!=\u001b[0m \u001b[0mlen\u001b[0m\u001b[1;33m(\u001b[0m\u001b[0my\u001b[0m\u001b[1;33m)\u001b[0m\u001b[1;33m:\u001b[0m\u001b[1;33m\u001b[0m\u001b[1;33m\u001b[0m\u001b[0m\n\u001b[1;32m-> 3298\u001b[1;33m             \u001b[1;32mraise\u001b[0m \u001b[0mValueError\u001b[0m\u001b[1;33m(\u001b[0m\u001b[1;34m\"'x' and 'y' must have the same size\"\u001b[0m\u001b[1;33m)\u001b[0m\u001b[1;33m\u001b[0m\u001b[1;33m\u001b[0m\u001b[0m\n\u001b[0m\u001b[0;32m   3299\u001b[0m \u001b[1;33m\u001b[0m\u001b[0m\n\u001b[0;32m   3300\u001b[0m         \u001b[1;32mif\u001b[0m \u001b[0mxerr\u001b[0m \u001b[1;32mis\u001b[0m \u001b[1;32mnot\u001b[0m \u001b[1;32mNone\u001b[0m\u001b[1;33m:\u001b[0m\u001b[1;33m\u001b[0m\u001b[1;33m\u001b[0m\u001b[0m\n",
      "\u001b[1;31mValueError\u001b[0m: 'x' and 'y' must have the same size"
     ]
    },
    {
     "data": {
      "image/png": "[encoded data removed]",
      "text/plain": [
       "<Figure size 432x288 with 1 Axes>"
      ]
     },
     "metadata": {
      "needs_background": "light"
     },
     "output_type": "display_data"
    }
   ],
   "source": [
    "plt.plot(np.arange(30),exp_behaviour, label=r'exp.')\n",
    "plt.errorbar(np.arange(29), end_to_end_weighted_avg, yerr=end_to_end_err, label=r'sim.')\n",
    "plt.legend(frameon=False)\n",
    "plt.ylabel(r\"$\\langle r_e^2(L) \\rangle$\")\n",
    "plt.xlabel(r\"Polymer length $L$ [$a$]\")\n",
    "plt.savefig('Figures/end2endplot')"
   ]
  },
  {
   "cell_type": "code",
   "execution_count": null,
   "metadata": {},
   "outputs": [],
   "source": []
  },
  {
   "cell_type": "code",
   "execution_count": 43,
   "metadata": {},
   "outputs": [
    {
     "name": "stdout",
     "output_type": "stream",
     "text": [
      "75\n"
     ]
    }
   ],
   "source": [
    "dish = Dish((10,10),(5,5))\n",
    "dish.PERM(10, 2, 100)\n",
    "print(len(dish.polymers))"
   ]
  },
  {
   "cell_type": "code",
   "execution_count": 44,
   "metadata": {},
   "outputs": [
    {
     "name": "stdout",
     "output_type": "stream",
     "text": [
      "22\n",
      "23\n",
      "27\n",
      "18\n",
      "21\n",
      "27\n",
      "39\n",
      "25\n",
      "27\n",
      "29\n",
      "25\n",
      "25\n",
      "25\n",
      "64\n",
      "49\n",
      "66\n",
      "95\n",
      "63\n",
      "86\n",
      "23\n",
      "42\n",
      "40\n",
      "56\n",
      "34\n",
      "39\n",
      "83\n",
      "100\n",
      "52\n",
      "44\n",
      "60\n",
      "100\n",
      "72\n",
      "50\n",
      "100\n",
      "72\n",
      "69\n",
      "47\n",
      "59\n",
      "59\n",
      "96\n",
      "60\n",
      "84\n",
      "91\n",
      "91\n",
      "84\n",
      "82\n",
      "100\n",
      "72\n",
      "100\n",
      "81\n",
      "95\n",
      "100\n",
      "98\n",
      "100\n",
      "100\n",
      "93\n",
      "95\n",
      "100\n",
      "100\n",
      "92\n",
      "100\n",
      "100\n",
      "100\n",
      "94\n",
      "100\n",
      "100\n",
      "100\n",
      "100\n",
      "100\n",
      "100\n",
      "100\n",
      "100\n",
      "100\n",
      "100\n",
      "100\n"
     ]
    }
   ],
   "source": [
    "for polymer in dish.polymers:\n",
    "    print(polymer.chain_length)"
   ]
  },
  {
   "cell_type": "code",
   "execution_count": 45,
   "metadata": {},
   "outputs": [],
   "source": [
    "weights = dish.weights\n",
    "observ = dish.end_to_end"
   ]
  },
  {
   "cell_type": "code",
   "execution_count": 46,
   "metadata": {},
   "outputs": [],
   "source": [
    "end_to_end_weighted_avg = expect_observ(observ, weights)\n",
    "end_to_end_err = error_observ(observ, weights, 5)"
   ]
  },
  {
   "cell_type": "code",
   "execution_count": 47,
   "metadata": {},
   "outputs": [],
   "source": [
    "from scipy.optimize import curve_fit as cv"
   ]
  },
  {
   "cell_type": "code",
   "execution_count": 48,
   "metadata": {},
   "outputs": [],
   "source": [
    "def fun(x, a):\n",
    "    return a*x**(3/2)"
   ]
  },
  {
   "cell_type": "code",
   "execution_count": 49,
   "metadata": {},
   "outputs": [],
   "source": [
    "cutoff = 70\n",
    "cf = cutoff"
   ]
  },
  {
   "cell_type": "code",
   "execution_count": 50,
   "metadata": {},
   "outputs": [],
   "source": [
    "x = np.arange(cf)\n",
    "y = end_to_end_weighted_avg[0:cf]"
   ]
  },
  {
   "cell_type": "code",
   "execution_count": 51,
   "metadata": {},
   "outputs": [
    {
     "data": {
      "text/plain": [
       "[]"
      ]
     },
     "execution_count": 51,
     "metadata": {},
     "output_type": "execute_result"
    }
   ],
   "source": [
    "[ i for i in np.arange(len(end_to_end_weighted_avg)) if np.isnan(end_to_end_weighted_avg[i])]"
   ]
  },
  {
   "cell_type": "code",
   "execution_count": 52,
   "metadata": {},
   "outputs": [],
   "source": [
    "copt, ccov = cv(fun, x, y)"
   ]
  },
  {
   "cell_type": "code",
   "execution_count": 53,
   "metadata": {},
   "outputs": [],
   "source": [
    "\n",
    "exp_behaviour = fun(x, copt) "
   ]
  },
  {
   "cell_type": "code",
   "execution_count": 54,
   "metadata": {},
   "outputs": [],
   "source": [
    "yerr = end_to_end_err[0:cf]"
   ]
  },
  {
   "cell_type": "code",
   "execution_count": 56,
   "metadata": {},
   "outputs": [
    {
     "data": {
      "image/png": "[encoded data removed]",
      "text/plain": [
       "<Figure size 432x288 with 1 Axes>"
      ]
     },
     "metadata": {
      "needs_background": "light"
     },
     "output_type": "display_data"
    }
   ],
   "source": [
    "plt.plot(x, fun(x, copt), label=r'exp. $\\alpha=$ '+'{:.2f}'.format(copt[0]))\n",
    "plt.errorbar(x, end_to_end_weighted_avg[0:cf], yerr=end_to_end_err[0:cf], label=r'sim.')\n",
    "plt.legend(frameon=False)\n",
    "plt.ylabel(r\"$\\langle r_e^2(L) \\rangle$\")\n",
    "plt.xlabel(r\"Polymer length $L$ [$a$]\")\n",
    "plt.title(\"PERM\")\n",
    "plt.savefig('Figures/end2endplotperm')"
   ]
  },
  {
   "cell_type": "code",
   "execution_count": null,
   "metadata": {},
   "outputs": [],
   "source": [
    "dish = Dish((10,10),(5,5))"
   ]
  },
  {
   "cell_type": "code",
   "execution_count": null,
   "metadata": {},
   "outputs": [],
   "source": [
    "dish.find_N_polymer(100, 30)"
   ]
  },
  {
   "cell_type": "code",
   "execution_count": null,
   "metadata": {},
   "outputs": [
    {
     "data": {
      "text/plain": [
       "129"
      ]
     },
     "execution_count": 4,
     "metadata": {},
     "output_type": "execute_result"
    }
   ],
   "source": [
    "len(dish.polymers)"
   ]
  },
  {
   "cell_type": "code",
   "execution_count": null,
   "metadata": {},
   "outputs": [
    {
     "data": {
      "text/plain": [
       "(array([[  1.,   4.,   9., ..., 305., 314., 325.],\n",
       "        [  1.,   2.,   1., ...,  37.,  40.,  29.],\n",
       "        [  1.,   2.,   5., ..., 137., 146., 169.],\n",
       "        ...,\n",
       "        [  1.,   2.,   5., ...,   0.,   0.,   0.],\n",
       "        [  1.,   2.,   1., ..., 121., 122., 125.],\n",
       "        [  1.,   2.,   1., ...,  25.,  34.,  45.]]),\n",
       " array([[ 0.        ,  0.25      ,  0.66666667, ..., 22.32647462,\n",
       "         23.84438776, 25.31034483],\n",
       "        [ 0.        ,  0.25      ,  0.44444444, ...,  9.21262003,\n",
       "          9.84693878, 10.61117717],\n",
       "        [ 0.        ,  0.25      ,  0.44444444, ..., 13.22085048,\n",
       "         13.70153061, 14.28775268],\n",
       "        ...,\n",
       "        [ 0.        ,  0.25      ,  0.44444444, ...,  0.        ,\n",
       "          0.        ,  0.        ],\n",
       "        [ 0.        ,  0.25      ,  0.44444444, ..., 11.53635117,\n",
       "         12.23469388, 12.79667063],\n",
       "        [ 0.        ,  0.25      ,  0.44444444, ...,  8.28532236,\n",
       "          8.11734694,  8.10939358]]),\n",
       " array([[4.00000000e+00, 1.20000000e+01, 3.60000000e+01, ...,\n",
       "         4.51887258e+12, 1.35566178e+13, 4.06698533e+13],\n",
       "        [4.00000000e+00, 1.20000000e+01, 3.60000000e+01, ...,\n",
       "         1.98359290e+11, 5.95077871e+11, 1.78523361e+12],\n",
       "        [4.00000000e+00, 1.20000000e+01, 3.60000000e+01, ...,\n",
       "         3.96718581e+11, 1.19015574e+12, 3.57046723e+12],\n",
       "        ...,\n",
       "        [4.00000000e+00, 1.20000000e+01, 3.60000000e+01, ...,\n",
       "         0.00000000e+00, 0.00000000e+00, 0.00000000e+00],\n",
       "        [4.00000000e+00, 1.20000000e+01, 3.60000000e+01, ...,\n",
       "         4.46308403e+11, 1.33892521e+12, 4.01677563e+12],\n",
       "        [4.00000000e+00, 1.20000000e+01, 3.60000000e+01, ...,\n",
       "         4.95898226e+10, 4.95898226e+10, 1.48769468e+11]]))"
      ]
     },
     "execution_count": 5,
     "metadata": {},
     "output_type": "execute_result"
    }
   ],
   "source": [
    "dish.analyse_polymers(30)"
   ]
  },
  {
   "cell_type": "code",
   "execution_count": null,
   "metadata": {},
   "outputs": [],
   "source": []
  },
  {
   "cell_type": "code",
   "execution_count": null,
   "metadata": {},
   "outputs": [
    {
     "data": {
      "text/plain": [
       "30"
      ]
     },
     "execution_count": 12,
     "metadata": {},
     "output_type": "execute_result"
    }
   ],
   "source": []
  }
 ],
 "metadata": {
  "interpreter": {
   "hash": "9d635fac63618d961f9c0a107e08197b6a7b982fdf7530708cf3436bb6241dec"
  },
  "kernelspec": {
   "display_name": "Python 3 (ipykernel)",
   "language": "python",
   "name": "python3"
  },
  "language_info": {
   "codemirror_mode": {
    "name": "ipython",
    "version": 3
   },
   "file_extension": ".py",
   "mimetype": "text/x-python",
   "name": "python",
   "nbconvert_exporter": "python",
   "pygments_lexer": "ipython3",
   "version": "3.9.0"
  }
 },
 "nbformat": 4,
 "nbformat_minor": 4
}
