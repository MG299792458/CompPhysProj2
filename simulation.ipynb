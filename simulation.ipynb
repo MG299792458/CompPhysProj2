{
 "cells": [
  {
   "cell_type": "code",
   "execution_count": 1,
   "metadata": {},
   "outputs": [],
   "source": [
    "from polpymer.core_funcs import Polymer, Monomer, Dish\n",
    "from polpymer.data_funcs import plot_polymer, grow_polymer, \\\n",
    "     generate_N_polymers, expect_observ, error_observ\n",
    "import numpy as np\n",
    "import matplotlib.pyplot as plt"
   ]
  },
  {
   "cell_type": "code",
   "execution_count": 2,
   "metadata": {},
   "outputs": [
    {
     "name": "stdout",
     "output_type": "stream",
     "text": [
      "None\n"
     ]
    }
   ],
   "source": [
    "\"\"\" We can start a new Polymer object with a starting Monomer(angle) where angle is {0,1,2,3} for 0*90, 1*90, 2*90, 3*90 degrees\n",
    "\n",
    "Here we start the chain with a monomer to the right\n",
    "\"\"\"\n",
    "first_monomer = Monomer(0)\n",
    "\n",
    "polymer = Polymer((10,10), (5,5))\n",
    "print(first_monomer.end_location)"
   ]
  },
  {
   "cell_type": "code",
   "execution_count": 3,
   "metadata": {},
   "outputs": [
    {
     "name": "stdout",
     "output_type": "stream",
     "text": [
      "(4, 5)\n",
      "(5, 5)\n"
     ]
    }
   ],
   "source": [
    "print(polymer.chain_end)\n",
    "print(polymer.chain_start)"
   ]
  },
  {
   "cell_type": "code",
   "execution_count": 4,
   "metadata": {},
   "outputs": [
    {
     "name": "stdout",
     "output_type": "stream",
     "text": [
      "(4, 4)\n"
     ]
    }
   ],
   "source": [
    "polymer.add_monomer(3) # add monomer down\n",
    "print(polymer.chain_end)"
   ]
  },
  {
   "cell_type": "code",
   "execution_count": 5,
   "metadata": {},
   "outputs": [
    {
     "name": "stdout",
     "output_type": "stream",
     "text": [
      "(3, 4)\n",
      "(3, 5)\n"
     ]
    }
   ],
   "source": [
    "\"\"\"\n",
    "Since we dont want our Polymer to close we see that we get an arrow if we now\n",
    "add further monomers that go to the left and up again\n",
    "\"\"\"\n",
    "\n",
    "polymer.add_monomer(2) # add monomer to the left\n",
    "print(polymer.chain_end)\n",
    "try:\n",
    "    polymer.add_monomer(1) # add monomer up (should error out)\n",
    "except:\n",
    "    print('Could not add monomer')\n",
    "print(polymer.chain_end)"
   ]
  },
  {
   "cell_type": "code",
   "execution_count": 6,
   "metadata": {},
   "outputs": [
    {
     "data": {
      "image/png": "[encoded data removed]",
      "text/plain": [
       "<Figure size 432x288 with 1 Axes>"
      ]
     },
     "metadata": {
      "needs_background": "light"
     },
     "output_type": "display_data"
    }
   ],
   "source": [
    "plot_polymer(polymer)"
   ]
  },
  {
   "cell_type": "code",
   "execution_count": 7,
   "metadata": {},
   "outputs": [
    {
     "name": "stdout",
     "output_type": "stream",
     "text": [
      "Monomer from (5, 5) to (4, 5) angle = 2\n",
      "Monomer from (4, 5) to (4, 4) angle = 3\n",
      "Monomer from (4, 4) to (3, 4) angle = 2\n",
      "Monomer from (3, 4) to (3, 5) angle = 1\n"
     ]
    }
   ],
   "source": [
    "for monomer in polymer:\n",
    "    print(monomer, \"angle = {}\".format(monomer.angle))"
   ]
  },
  {
   "cell_type": "code",
   "execution_count": 8,
   "metadata": {},
   "outputs": [],
   "source": [
    "polymer1 = Polymer((10,10), (5,5))"
   ]
  },
  {
   "cell_type": "code",
   "execution_count": 9,
   "metadata": {},
   "outputs": [
    {
     "ename": "Exception",
     "evalue": "Proposed monomer's end location already a node of polymer",
     "output_type": "error",
     "traceback": [
      "\u001b[1;31m---------------------------------------------------------------------------\u001b[0m",
      "\u001b[1;31mException\u001b[0m                                 Traceback (most recent call last)",
      "\u001b[1;32m~\\AppData\\Local\\Temp/ipykernel_14252/3192295304.py\u001b[0m in \u001b[0;36m<module>\u001b[1;34m\u001b[0m\n\u001b[0;32m      4\u001b[0m \u001b[1;33m\u001b[0m\u001b[0m\n\u001b[0;32m      5\u001b[0m \u001b[1;32mfor\u001b[0m \u001b[0mi\u001b[0m \u001b[1;32min\u001b[0m \u001b[0mrandom_angles\u001b[0m\u001b[1;33m:\u001b[0m\u001b[1;33m\u001b[0m\u001b[1;33m\u001b[0m\u001b[0m\n\u001b[1;32m----> 6\u001b[1;33m     \u001b[0mpolymer1\u001b[0m\u001b[1;33m.\u001b[0m\u001b[0madd_monomer\u001b[0m\u001b[1;33m(\u001b[0m\u001b[0mi\u001b[0m\u001b[1;33m)\u001b[0m\u001b[1;33m\u001b[0m\u001b[1;33m\u001b[0m\u001b[0m\n\u001b[0m",
      "\u001b[1;32mc:\\Users\\Jeroe\\Documents\\TU Delft\\AP3082 Computational Physics\\project-2\\polpymer\\core_funcs.py\u001b[0m in \u001b[0;36madd_monomer\u001b[1;34m(self, ang, loc)\u001b[0m\n\u001b[0;32m    217\u001b[0m             \u001b[0mself\u001b[0m\u001b[1;33m.\u001b[0m\u001b[0mclaimed_sites\u001b[0m\u001b[1;33m.\u001b[0m\u001b[0mappend\u001b[0m\u001b[1;33m(\u001b[0m\u001b[0mself\u001b[0m\u001b[1;33m.\u001b[0m\u001b[0mchain_end\u001b[0m\u001b[1;33m)\u001b[0m\u001b[1;33m\u001b[0m\u001b[1;33m\u001b[0m\u001b[0m\n\u001b[0;32m    218\u001b[0m         \u001b[1;32melse\u001b[0m\u001b[1;33m:\u001b[0m\u001b[1;33m\u001b[0m\u001b[1;33m\u001b[0m\u001b[0m\n\u001b[1;32m--> 219\u001b[1;33m             \u001b[1;32mraise\u001b[0m \u001b[0mException\u001b[0m\u001b[1;33m(\u001b[0m\u001b[1;34m\"Proposed monomer's end location already a node of polymer\"\u001b[0m\u001b[1;33m)\u001b[0m\u001b[1;33m\u001b[0m\u001b[1;33m\u001b[0m\u001b[0m\n\u001b[0m\u001b[0;32m    220\u001b[0m \u001b[1;33m\u001b[0m\u001b[0m\n\u001b[0;32m    221\u001b[0m \u001b[1;33m\u001b[0m\u001b[0m\n",
      "\u001b[1;31mException\u001b[0m: Proposed monomer's end location already a node of polymer"
     ]
    }
   ],
   "source": [
    "from random import randint\n",
    "\n",
    "random_angles = [randint(0,3) for i in range(10)]\n",
    "\n",
    "for i in random_angles:\n",
    "    polymer1.add_monomer(i)"
   ]
  },
  {
   "cell_type": "code",
   "execution_count": 10,
   "metadata": {},
   "outputs": [
    {
     "data": {
      "image/png": "[encoded data removed]",
      "text/plain": [
       "<Figure size 432x288 with 1 Axes>"
      ]
     },
     "metadata": {
      "needs_background": "light"
     },
     "output_type": "display_data"
    }
   ],
   "source": [
    "plot_polymer(polymer1)"
   ]
  },
  {
   "cell_type": "code",
   "execution_count": 11,
   "metadata": {},
   "outputs": [
    {
     "name": "stdout",
     "output_type": "stream",
     "text": [
      "The polymer grew to length 57\n"
     ]
    },
    {
     "data": {
      "text/plain": [
       "array([3., 3., 3., 2., 3., 3., 3., 3., 3., 3., 3., 3., 2., 3., 3., 3., 3.,\n",
       "       3., 3., 3., 3., 3., 3., 2., 3., 3., 2., 1., 3., 2., 3., 3., 3., 1.,\n",
       "       3., 3., 3., 3., 3., 2., 2., 3., 2., 3., 3., 1., 1., 2., 3., 2., 3.,\n",
       "       3., 1., 3., 3., 3.])"
      ]
     },
     "execution_count": 11,
     "metadata": {},
     "output_type": "execute_result"
    }
   ],
   "source": [
    "m, polymer2 = grow_polymer((20,20), (10,10), 200)\n",
    "m"
   ]
  },
  {
   "cell_type": "code",
   "execution_count": 12,
   "metadata": {},
   "outputs": [
    {
     "data": {
      "image/png": "[encoded data removed]",
      "text/plain": [
       "<Figure size 432x288 with 1 Axes>"
      ]
     },
     "metadata": {
      "needs_background": "light"
     },
     "output_type": "display_data"
    }
   ],
   "source": [
    "plot_polymer(polymer2)"
   ]
  },
  {
   "cell_type": "code",
   "execution_count": 13,
   "metadata": {},
   "outputs": [
    {
     "data": {
      "text/plain": [
       "57"
      ]
     },
     "execution_count": 13,
     "metadata": {},
     "output_type": "execute_result"
    }
   ],
   "source": [
    "polymer2.chain_length"
   ]
  },
  {
   "cell_type": "code",
   "execution_count": 14,
   "metadata": {},
   "outputs": [
    {
     "ename": "AttributeError",
     "evalue": "'Polymer' object has no attribute 'distance_end_start'",
     "output_type": "error",
     "traceback": [
      "\u001b[1;31m---------------------------------------------------------------------------\u001b[0m",
      "\u001b[1;31mAttributeError\u001b[0m                            Traceback (most recent call last)",
      "\u001b[1;32m~\\AppData\\Local\\Temp/ipykernel_14252/3785778072.py\u001b[0m in \u001b[0;36m<module>\u001b[1;34m\u001b[0m\n\u001b[0;32m      7\u001b[0m \u001b[1;32mfor\u001b[0m \u001b[0mi\u001b[0m \u001b[1;32min\u001b[0m \u001b[0mrange\u001b[0m\u001b[1;33m(\u001b[0m\u001b[0mN\u001b[0m\u001b[1;33m)\u001b[0m\u001b[1;33m:\u001b[0m\u001b[1;33m\u001b[0m\u001b[1;33m\u001b[0m\u001b[0m\n\u001b[0;32m      8\u001b[0m     \u001b[0mtest_m\u001b[0m\u001b[1;33m,\u001b[0m \u001b[0mtestpoly\u001b[0m \u001b[1;33m=\u001b[0m \u001b[0mgrow_polymer\u001b[0m\u001b[1;33m(\u001b[0m\u001b[1;33m(\u001b[0m\u001b[1;36m10\u001b[0m\u001b[1;33m,\u001b[0m\u001b[1;36m10\u001b[0m\u001b[1;33m)\u001b[0m\u001b[1;33m,\u001b[0m \u001b[1;33m(\u001b[0m\u001b[1;36m5\u001b[0m\u001b[1;33m,\u001b[0m\u001b[1;36m5\u001b[0m\u001b[1;33m)\u001b[0m\u001b[1;33m,\u001b[0m \u001b[0mL\u001b[0m\u001b[1;33m)\u001b[0m\u001b[1;33m\u001b[0m\u001b[1;33m\u001b[0m\u001b[0m\n\u001b[1;32m----> 9\u001b[1;33m     \u001b[0mend2end\u001b[0m\u001b[1;33m[\u001b[0m\u001b[0mi\u001b[0m\u001b[1;33m]\u001b[0m \u001b[1;33m=\u001b[0m \u001b[0mnp\u001b[0m\u001b[1;33m.\u001b[0m\u001b[0msqrt\u001b[0m\u001b[1;33m(\u001b[0m\u001b[0mtestpoly\u001b[0m\u001b[1;33m.\u001b[0m\u001b[0mdistance_end_start\u001b[0m\u001b[1;33m(\u001b[0m\u001b[1;33m)\u001b[0m\u001b[1;33m)\u001b[0m\u001b[1;33m\u001b[0m\u001b[1;33m\u001b[0m\u001b[0m\n\u001b[0m\u001b[0;32m     10\u001b[0m \u001b[1;33m\u001b[0m\u001b[0m\n\u001b[0;32m     11\u001b[0m \u001b[0mplt\u001b[0m\u001b[1;33m.\u001b[0m\u001b[0mhist\u001b[0m\u001b[1;33m(\u001b[0m\u001b[0mend2end\u001b[0m\u001b[1;33m)\u001b[0m\u001b[1;33m\u001b[0m\u001b[1;33m\u001b[0m\u001b[0m\n",
      "\u001b[1;31mAttributeError\u001b[0m: 'Polymer' object has no attribute 'distance_end_start'"
     ]
    }
   ],
   "source": [
    "\"\"\"\n",
    "run test to check if behaviour is as expected for random polymers of length 1, 2, 3\n",
    "\"\"\"\n",
    "N = 1000\n",
    "L = 2\n",
    "end2end = np.zeros(N)\n",
    "for i in range(N):\n",
    "    test_m, testpoly = grow_polymer((10,10), (5,5), L)\n",
    "    end2end[i] = np.sqrt(testpoly.distance_end_start())\n",
    "\n",
    "plt.hist(end2end)\n",
    "plt.savefig('Figures/end2endDistribution_L={}'.format(L))\n",
    "\n",
    "\"Distribution of end to end distances is as expected for these lengths\""
   ]
  },
  {
   "cell_type": "code",
   "execution_count": 15,
   "metadata": {},
   "outputs": [],
   "source": [
    "end_to_end, gyration, weights = generate_N_polymers(70, 10, (10,10), (5,5))\n",
    "end_to_end_weighted_avg = expect_observ(end_to_end, weights)\n",
    "end_to_end_err = error_observ(end_to_end, weights, 5)"
   ]
  },
  {
   "cell_type": "code",
   "execution_count": 16,
   "metadata": {},
   "outputs": [
    {
     "name": "stdout",
     "output_type": "stream",
     "text": [
      "The polymer grew to length 33\n"
     ]
    }
   ],
   "source": [
    "polymer = Polymer((10,10), (5,5))\n",
    "polymer.grow_polymer(40)"
   ]
  },
  {
   "cell_type": "code",
   "execution_count": 17,
   "metadata": {},
   "outputs": [
    {
     "data": {
      "image/png": "[encoded data removed]",
      "text/plain": [
       "<Figure size 432x288 with 1 Axes>"
      ]
     },
     "metadata": {
      "needs_background": "light"
     },
     "output_type": "display_data"
    }
   ],
   "source": [
    "plot_polymer(polymer)"
   ]
  },
  {
   "cell_type": "code",
   "execution_count": 18,
   "metadata": {},
   "outputs": [],
   "source": [
    "end, gyr = polymer.observables()"
   ]
  },
  {
   "cell_type": "code",
   "execution_count": 19,
   "metadata": {},
   "outputs": [
    {
     "name": "stdout",
     "output_type": "stream",
     "text": [
      "[ 1.  2.  5.  4.  5. 10. 17. 26. 25. 26. 29. 34. 41. 52. 45. 40. 53. 68.\n",
      " 85. 82. 81. 64. 49. 50. 53. 58. 45. 40. 37. 36. 37. 50.]\n",
      "[0.         0.25       0.44444444 0.875      1.04       1.36111111\n",
      " 1.79591837 2.4375     3.30864198 3.73       4.04958678 4.44444444\n",
      " 5.00591716 5.78061224 6.60444444 6.875      6.87197232 7.12654321\n",
      " 7.6565097  8.47       9.07029478 9.58884298 9.6710775  9.49652778\n",
      " 9.4368     9.53994083 9.84087791 9.98469388 9.88109394 9.64111111\n",
      " 9.35275754 9.0859375 ]\n"
     ]
    }
   ],
   "source": [
    "print(end)\n",
    "print(gyr)"
   ]
  },
  {
   "cell_type": "code",
   "execution_count": 20,
   "metadata": {},
   "outputs": [],
   "source": [
    "dish = Dish((10,10), (5,5))\n"
   ]
  },
  {
   "cell_type": "code",
   "execution_count": 21,
   "metadata": {},
   "outputs": [
    {
     "name": "stdout",
     "output_type": "stream",
     "text": [
      "The polymer grew to length 21\n",
      "The polymer grew to length 23\n",
      "The polymer grew to length 22\n",
      "The polymer grew to length 27\n",
      "The polymer grew to length 25\n",
      "The polymer grew to length 25\n",
      "The polymer grew to length 15\n",
      "The polymer grew to length 18\n",
      "The polymer grew to length 18\n",
      "The polymer grew to length 10\n",
      "The polymer grew to length 15\n",
      "The polymer grew to length 22\n",
      "The polymer grew to length 23\n",
      "The polymer grew to length 29\n",
      "The polymer grew to length 24\n",
      "The polymer grew to length 25\n",
      "The polymer grew to length 23\n",
      "The polymer grew to length 27\n",
      "The polymer grew to length 24\n",
      "The polymer grew to length 26\n",
      "The polymer grew to length 17\n",
      "The polymer grew to length 16\n",
      "The polymer grew to length 21\n",
      "The polymer grew to length 23\n",
      "The polymer grew to length 29\n",
      "The polymer grew to length 21\n",
      "The polymer grew to length 26\n",
      "The polymer grew to length 27\n",
      "The polymer grew to length 19\n",
      "The polymer grew to length 20\n"
     ]
    },
    {
     "data": {
      "text/plain": [
       "(array([[  1.,   4.,   9., ...,  41.,  50.,  61.],\n",
       "        [  1.,   2.,   5., ..., 261., 274., 305.],\n",
       "        [  1.,   2.,   1., ...,   5.,  10.,   9.],\n",
       "        ...,\n",
       "        [  1.,   2.,   5., ...,  61.,  52.,  45.],\n",
       "        [  1.,   2.,   5., ..., 197., 196., 197.],\n",
       "        [  1.,   2.,   5., ...,  65.,  82., 101.]]),\n",
       " array([[ 0.        ,  0.25      ,  0.66666667, ...,  8.21947874,\n",
       "          8.32653061,  8.55648038],\n",
       "        [ 0.        ,  0.25      ,  0.44444444, ..., 20.54869684,\n",
       "         22.40561224, 24.1117717 ],\n",
       "        [ 0.        ,  0.25      ,  0.44444444, ...,  7.35253772,\n",
       "          7.17346939,  7.039239  ],\n",
       "        ...,\n",
       "        [ 0.        ,  0.25      ,  0.44444444, ..., 12.4691358 ,\n",
       "         12.45918367, 12.22592152],\n",
       "        [ 0.        ,  0.25      ,  0.44444444, ..., 16.09602195,\n",
       "         17.32397959, 18.47800238],\n",
       "        [ 0.        ,  0.25      ,  0.44444444, ...,  7.59396433,\n",
       "          8.21938776,  9.09393579]]),\n",
       " array([[ 4.00000000e+00,  1.20000000e+01,  3.60000000e+01, ...,\n",
       "         -3.68195456e+08, -1.10458637e+09,  9.81208192e+08],\n",
       "        [ 4.00000000e+00,  1.20000000e+01,  3.60000000e+01, ...,\n",
       "         -1.65687955e+09, -6.75671360e+08, -2.02701408e+09],\n",
       "        [ 4.00000000e+00,  1.20000000e+01,  3.60000000e+01, ...,\n",
       "         -1.94978496e+09,  3.95397376e+08,  7.90794752e+08],\n",
       "        ...,\n",
       "        [ 4.00000000e+00,  1.20000000e+01,  3.60000000e+01, ...,\n",
       "         -1.10458637e+09,  9.81208192e+08,  1.96241638e+09],\n",
       "        [ 4.00000000e+00,  1.20000000e+01,  3.60000000e+01, ...,\n",
       "         -1.24265966e+09,  5.66988304e+08,  1.70096491e+09],\n",
       "        [ 4.00000000e+00,  1.20000000e+01,  3.60000000e+01, ...,\n",
       "         -9.04459264e+08,  1.58158950e+09,  4.49801216e+08]]))"
      ]
     },
     "execution_count": 21,
     "metadata": {},
     "output_type": "execute_result"
    }
   ],
   "source": [
    "dish.generate_N_polymers(100, 30)"
   ]
  },
  {
   "cell_type": "code",
   "execution_count": 22,
   "metadata": {},
   "outputs": [
    {
     "data": {
      "text/plain": [
       "[<polpymer.core_funcs.Polymer at 0x1fa72046fa0>,\n",
       " <polpymer.core_funcs.Polymer at 0x1fa593593a0>,\n",
       " <polpymer.core_funcs.Polymer at 0x1fa6fe67880>,\n",
       " <polpymer.core_funcs.Polymer at 0x1fa6fe89f70>,\n",
       " <polpymer.core_funcs.Polymer at 0x1fa6fe89d90>,\n",
       " <polpymer.core_funcs.Polymer at 0x1fa6fe89fd0>,\n",
       " <polpymer.core_funcs.Polymer at 0x1fa71ea9b80>,\n",
       " <polpymer.core_funcs.Polymer at 0x1fa71ef5040>,\n",
       " <polpymer.core_funcs.Polymer at 0x1fa6fe751f0>,\n",
       " <polpymer.core_funcs.Polymer at 0x1fa6fe75400>,\n",
       " <polpymer.core_funcs.Polymer at 0x1fa71eafbb0>,\n",
       " <polpymer.core_funcs.Polymer at 0x1fa6fe5c520>,\n",
       " <polpymer.core_funcs.Polymer at 0x1fa5880a220>,\n",
       " <polpymer.core_funcs.Polymer at 0x1fa71ee7d90>,\n",
       " <polpymer.core_funcs.Polymer at 0x1fa6fe31af0>,\n",
       " <polpymer.core_funcs.Polymer at 0x1fa6fe46fa0>,\n",
       " <polpymer.core_funcs.Polymer at 0x1fa6fe46400>,\n",
       " <polpymer.core_funcs.Polymer at 0x1fa7216f880>,\n",
       " <polpymer.core_funcs.Polymer at 0x1fa7216ff70>,\n",
       " <polpymer.core_funcs.Polymer at 0x1fa72170430>,\n",
       " <polpymer.core_funcs.Polymer at 0x1fa72170fa0>,\n",
       " <polpymer.core_funcs.Polymer at 0x1fa72158700>,\n",
       " <polpymer.core_funcs.Polymer at 0x1fa72158c40>,\n",
       " <polpymer.core_funcs.Polymer at 0x1fa7215a2b0>,\n",
       " <polpymer.core_funcs.Polymer at 0x1fa7215ae20>,\n",
       " <polpymer.core_funcs.Polymer at 0x1fa7215c9d0>,\n",
       " <polpymer.core_funcs.Polymer at 0x1fa72185580>,\n",
       " <polpymer.core_funcs.Polymer at 0x1fa72186ca0>,\n",
       " <polpymer.core_funcs.Polymer at 0x1fa72187850>,\n",
       " <polpymer.core_funcs.Polymer at 0x1fa72187e50>,\n",
       " <polpymer.core_funcs.Polymer at 0x1fa72188400>,\n",
       " <polpymer.core_funcs.Polymer at 0x1fa72188f70>,\n",
       " <polpymer.core_funcs.Polymer at 0x1fa72189b20>,\n",
       " <polpymer.core_funcs.Polymer at 0x1fa7218b6d0>,\n",
       " <polpymer.core_funcs.Polymer at 0x1fa7218c280>,\n",
       " <polpymer.core_funcs.Polymer at 0x1fa7218cdf0>,\n",
       " <polpymer.core_funcs.Polymer at 0x1fa7218d9a0>,\n",
       " <polpymer.core_funcs.Polymer at 0x1fa6fe79100>,\n",
       " <polpymer.core_funcs.Polymer at 0x1fa6fe79400>,\n",
       " <polpymer.core_funcs.Polymer at 0x1fa6fe76820>,\n",
       " <polpymer.core_funcs.Polymer at 0x1fa6fe76d00>,\n",
       " <polpymer.core_funcs.Polymer at 0x1fa6fe69f40>,\n",
       " <polpymer.core_funcs.Polymer at 0x1fa6fe69fa0>,\n",
       " <polpymer.core_funcs.Polymer at 0x1fa6fe78c70>,\n",
       " <polpymer.core_funcs.Polymer at 0x1fa6fe78730>,\n",
       " <polpymer.core_funcs.Polymer at 0x1fa6fe78850>,\n",
       " <polpymer.core_funcs.Polymer at 0x1fa6fe68dc0>,\n",
       " <polpymer.core_funcs.Polymer at 0x1fa6fe62970>,\n",
       " <polpymer.core_funcs.Polymer at 0x1fa6fe5d520>,\n",
       " <polpymer.core_funcs.Polymer at 0x1fa72129c40>,\n",
       " <polpymer.core_funcs.Polymer at 0x1fa7213ddf0>,\n",
       " <polpymer.core_funcs.Polymer at 0x1fa7213d7c0>,\n",
       " <polpymer.core_funcs.Polymer at 0x1fa721123a0>,\n",
       " <polpymer.core_funcs.Polymer at 0x1fa7211dac0>,\n",
       " <polpymer.core_funcs.Polymer at 0x1fa7211df70>,\n",
       " <polpymer.core_funcs.Polymer at 0x1fa7211e670>,\n",
       " <polpymer.core_funcs.Polymer at 0x1fa72123220>,\n",
       " <polpymer.core_funcs.Polymer at 0x1fa72123d90>,\n",
       " <polpymer.core_funcs.Polymer at 0x1fa72126940>,\n",
       " <polpymer.core_funcs.Polymer at 0x1fa7212c4f0>,\n",
       " <polpymer.core_funcs.Polymer at 0x1fa7212f0a0>,\n",
       " <polpymer.core_funcs.Polymer at 0x1fa7212fc10>,\n",
       " <polpymer.core_funcs.Polymer at 0x1fa7213f7c0>,\n",
       " <polpymer.core_funcs.Polymer at 0x1fa7204a370>,\n",
       " <polpymer.core_funcs.Polymer at 0x1fa720299d0>,\n",
       " <polpymer.core_funcs.Polymer at 0x1fa72047640>,\n",
       " <polpymer.core_funcs.Polymer at 0x1fa72047e80>,\n",
       " <polpymer.core_funcs.Polymer at 0x1fa72020910>,\n",
       " <polpymer.core_funcs.Polymer at 0x1fa72020f10>,\n",
       " <polpymer.core_funcs.Polymer at 0x1fa72041910>,\n",
       " <polpymer.core_funcs.Polymer at 0x1fa720134c0>,\n",
       " <polpymer.core_funcs.Polymer at 0x1fa7203e070>,\n",
       " <polpymer.core_funcs.Polymer at 0x1fa7203ebe0>,\n",
       " <polpymer.core_funcs.Polymer at 0x1fa72032340>,\n",
       " <polpymer.core_funcs.Polymer at 0x1fa72032eb0>,\n",
       " <polpymer.core_funcs.Polymer at 0x1fa7202fa60>,\n",
       " <polpymer.core_funcs.Polymer at 0x1fa7202ffa0>,\n",
       " <polpymer.core_funcs.Polymer at 0x1fa72044610>,\n",
       " <polpymer.core_funcs.Polymer at 0x1fa7201a1c0>,\n",
       " <polpymer.core_funcs.Polymer at 0x1fa720258e0>,\n",
       " <polpymer.core_funcs.Polymer at 0x1fa72025f70>,\n",
       " <polpymer.core_funcs.Polymer at 0x1fa7210a490>,\n",
       " <polpymer.core_funcs.Polymer at 0x1fa720f1430>,\n",
       " <polpymer.core_funcs.Polymer at 0x1fa720f1be0>,\n",
       " <polpymer.core_funcs.Polymer at 0x1fa720d1760>,\n",
       " <polpymer.core_funcs.Polymer at 0x1fa720d8310>,\n",
       " <polpymer.core_funcs.Polymer at 0x1fa720d8e80>,\n",
       " <polpymer.core_funcs.Polymer at 0x1fa720dea30>,\n",
       " <polpymer.core_funcs.Polymer at 0x1fa720eb190>,\n",
       " <polpymer.core_funcs.Polymer at 0x1fa720eb970>,\n",
       " <polpymer.core_funcs.Polymer at 0x1fa720f48b0>,\n",
       " <polpymer.core_funcs.Polymer at 0x1fa720f4fd0>,\n",
       " <polpymer.core_funcs.Polymer at 0x1fa720fe850>,\n",
       " <polpymer.core_funcs.Polymer at 0x1fa720feaf0>,\n",
       " <polpymer.core_funcs.Polymer at 0x1fa72104a60>,\n",
       " <polpymer.core_funcs.Polymer at 0x1fa720f85e0>,\n",
       " <polpymer.core_funcs.Polymer at 0x1fa720fec10>,\n",
       " <polpymer.core_funcs.Polymer at 0x1fa72108e50>,\n",
       " <polpymer.core_funcs.Polymer at 0x1fa720fc5b0>,\n",
       " <polpymer.core_funcs.Polymer at 0x1fa720fcc70>]"
      ]
     },
     "execution_count": 22,
     "metadata": {},
     "output_type": "execute_result"
    }
   ],
   "source": [
    "dish.polymers"
   ]
  },
  {
   "cell_type": "code",
   "execution_count": 23,
   "metadata": {},
   "outputs": [],
   "source": [
    "weights = dish.weights\n",
    "observ = dish.end_to_end\n"
   ]
  },
  {
   "cell_type": "code",
   "execution_count": 24,
   "metadata": {},
   "outputs": [],
   "source": [
    "\n",
    "end_to_end_weighted_avg = expect_observ(observ, weights)\n",
    "end_to_end_err = error_observ(observ, weights, 5)"
   ]
  },
  {
   "cell_type": "code",
   "execution_count": 25,
   "metadata": {},
   "outputs": [],
   "source": [
    "def scaling_law(L, dims):\n",
    "    ls = np.arange(L)+1\n",
    "    exponent = 2*3/4\n",
    "\n",
    "    return ls**exponent"
   ]
  },
  {
   "cell_type": "code",
   "execution_count": 26,
   "metadata": {},
   "outputs": [],
   "source": [
    "exp_behaviour = scaling_law(30, 2)"
   ]
  },
  {
   "cell_type": "code",
   "execution_count": 27,
   "metadata": {},
   "outputs": [
    {
     "data": {
      "image/png": "[encoded data removed]",
      "text/plain": [
       "<Figure size 432x288 with 1 Axes>"
      ]
     },
     "metadata": {
      "needs_background": "light"
     },
     "output_type": "display_data"
    }
   ],
   "source": [
    "plt.plot(np.arange(30),exp_behaviour, label=r'exp.')\n",
    "plt.errorbar(np.arange(29), end_to_end_weighted_avg, yerr=end_to_end_err, label=r'sim.')\n",
    "plt.legend(frameon=False)\n",
    "plt.ylabel(r\"$\\langle r_e^2(L) \\rangle$\")\n",
    "plt.xlabel(r\"Polymer length $L$ [$a$]\")\n",
    "plt.savefig('Figures/end2endplot')"
   ]
  },
  {
   "cell_type": "code",
   "execution_count": null,
   "metadata": {},
   "outputs": [],
   "source": []
  },
  {
   "cell_type": "code",
   "execution_count": 28,
   "metadata": {},
   "outputs": [
    {
     "name": "stdout",
     "output_type": "stream",
     "text": [
      "53\n"
     ]
    }
   ],
   "source": [
    "dish = Dish((10,10),(5,5))\n",
    "dish.PERM(10, 2, 100)\n",
    "print(len(dish.polymers))"
   ]
  },
  {
   "cell_type": "code",
   "execution_count": 29,
   "metadata": {},
   "outputs": [
    {
     "name": "stdout",
     "output_type": "stream",
     "text": [
      "54\n",
      "22\n",
      "25\n",
      "16\n",
      "23\n",
      "13\n",
      "18\n",
      "18\n",
      "45\n",
      "47\n",
      "43\n",
      "76\n",
      "21\n",
      "58\n",
      "60\n",
      "41\n",
      "33\n",
      "38\n",
      "69\n",
      "64\n",
      "36\n",
      "47\n",
      "45\n",
      "73\n",
      "47\n",
      "67\n",
      "62\n",
      "100\n",
      "85\n",
      "87\n",
      "50\n",
      "76\n",
      "53\n",
      "53\n",
      "47\n",
      "68\n",
      "51\n",
      "63\n",
      "100\n",
      "82\n",
      "65\n",
      "67\n",
      "100\n",
      "100\n",
      "100\n",
      "91\n",
      "100\n",
      "100\n",
      "100\n",
      "100\n",
      "100\n",
      "100\n",
      "100\n"
     ]
    }
   ],
   "source": [
    "for polymer in dish.polymers:\n",
    "    print(polymer.chain_length)"
   ]
  },
  {
   "cell_type": "code",
   "execution_count": 30,
   "metadata": {},
   "outputs": [],
   "source": [
    "weights = dish.weights\n",
    "observ = dish.end_to_end"
   ]
  },
  {
   "cell_type": "code",
   "execution_count": 31,
   "metadata": {},
   "outputs": [],
   "source": [
    "end_to_end_weighted_avg = expect_observ(observ, weights)\n",
    "end_to_end_err = error_observ(observ, weights, 5)"
   ]
  },
  {
   "cell_type": "code",
   "execution_count": 32,
   "metadata": {},
   "outputs": [],
   "source": [
    "from scipy.optimize import curve_fit as cv"
   ]
  },
  {
   "cell_type": "code",
   "execution_count": 33,
   "metadata": {},
   "outputs": [],
   "source": [
    "def fun(x, a):\n",
    "    return a*x**(3/2)"
   ]
  },
  {
   "cell_type": "code",
   "execution_count": 34,
   "metadata": {},
   "outputs": [],
   "source": [
    "cutoff = 70\n",
    "cf = cutoff"
   ]
  },
  {
   "cell_type": "code",
   "execution_count": 35,
   "metadata": {},
   "outputs": [],
   "source": [
    "x = np.arange(cf)\n",
    "y = end_to_end_weighted_avg[0:cf]"
   ]
  },
  {
   "cell_type": "code",
   "execution_count": 36,
   "metadata": {},
   "outputs": [
    {
     "data": {
      "text/plain": [
       "[]"
      ]
     },
     "execution_count": 36,
     "metadata": {},
     "output_type": "execute_result"
    }
   ],
   "source": [
    "[ i for i in np.arange(len(end_to_end_weighted_avg)) if np.isnan(end_to_end_weighted_avg[i])]"
   ]
  },
  {
   "cell_type": "code",
   "execution_count": 37,
   "metadata": {},
   "outputs": [],
   "source": [
    "copt, ccov = cv(fun, x, y)"
   ]
  },
  {
   "cell_type": "code",
   "execution_count": 38,
   "metadata": {},
   "outputs": [],
   "source": [
    "\n",
    "exp_behaviour = fun(x, copt) "
   ]
  },
  {
   "cell_type": "code",
   "execution_count": 39,
   "metadata": {},
   "outputs": [],
   "source": [
    "yerr = end_to_end_err[0:cf]"
   ]
  },
  {
   "cell_type": "code",
   "execution_count": 45,
   "metadata": {},
   "outputs": [
    {
     "data": {
      "image/png": "[encoded data removed]",
      "text/plain": [
       "<Figure size 432x288 with 1 Axes>"
      ]
     },
     "metadata": {
      "needs_background": "light"
     },
     "output_type": "display_data"
    }
   ],
   "source": [
    "plt.plot(x, fun(x, copt), label=r'exp. $\\alpha=$ '+'{:.2f}'.format(copt[0]))\n",
    "plt.errorbar(x, end_to_end_weighted_avg[0:cf], yerr=end_to_end_err[0:cf], label=r'sim.')\n",
    "plt.legend(frameon=False)\n",
    "plt.ylabel(r\"$\\langle r_e^2(L) \\rangle$\")\n",
    "plt.xlabel(r\"Polymer length $L$ [$a$]\")\n",
    "plt.title(\"PERM\")\n",
    "plt.savefig('Figures/end2endplotperm')"
   ]
  },
  {
   "cell_type": "code",
   "execution_count": 3,
   "metadata": {},
   "outputs": [],
   "source": [
    "dish = Dish((10,10),(5,5))"
   ]
  },
  {
   "cell_type": "code",
   "execution_count": 4,
   "metadata": {},
   "outputs": [],
   "source": [
    "dish.find_N_polymer(100, 30)"
   ]
  },
  {
   "cell_type": "code",
   "execution_count": 5,
   "metadata": {},
   "outputs": [
    {
     "data": {
      "text/plain": [
       "121"
      ]
     },
     "execution_count": 5,
     "metadata": {},
     "output_type": "execute_result"
    }
   ],
   "source": [
    "len(dish.polymers)"
   ]
  },
  {
   "cell_type": "code",
   "execution_count": 6,
   "metadata": {},
   "outputs": [
    {
     "ename": "ValueError",
     "evalue": "could not broadcast input array from shape (18,) into shape (29,)",
     "output_type": "error",
     "traceback": [
      "\u001b[0;31m---------------------------------------------------------------------------\u001b[0m",
      "\u001b[0;31mValueError\u001b[0m                                Traceback (most recent call last)",
      "Input \u001b[0;32mIn [6]\u001b[0m, in \u001b[0;36m<module>\u001b[0;34m\u001b[0m\n\u001b[0;32m----> 1\u001b[0m \u001b[43mdish\u001b[49m\u001b[38;5;241;43m.\u001b[39;49m\u001b[43manalyse_polymers\u001b[49m\u001b[43m(\u001b[49m\u001b[38;5;241;43m30\u001b[39;49m\u001b[43m)\u001b[49m\n",
      "File \u001b[0;32m~/Project2-Polymer_SangersJeroen_agefrancke_mwglorie/polpymer/core_funcs.py:386\u001b[0m, in \u001b[0;36mDish.analyse_polymers\u001b[0;34m(self, length)\u001b[0m\n\u001b[1;32m    384\u001b[0m     end_to_end[i,:] \u001b[38;5;241m=\u001b[39m end_to_end_i\n\u001b[1;32m    385\u001b[0m     gyration[i,:] \u001b[38;5;241m=\u001b[39m gyration_i\n\u001b[0;32m--> 386\u001b[0m     w[i,:] \u001b[38;5;241m=\u001b[39m w_i[\u001b[38;5;241m0\u001b[39m:\u001b[38;5;241m-\u001b[39m\u001b[38;5;241m1\u001b[39m]\n\u001b[1;32m    388\u001b[0m \u001b[38;5;28mself\u001b[39m\u001b[38;5;241m.\u001b[39mend_to_end \u001b[38;5;241m=\u001b[39m end_to_end\n\u001b[1;32m    389\u001b[0m \u001b[38;5;28mself\u001b[39m\u001b[38;5;241m.\u001b[39mgyration \u001b[38;5;241m=\u001b[39m gyration\n",
      "\u001b[0;31mValueError\u001b[0m: could not broadcast input array from shape (18,) into shape (29,)"
     ]
    }
   ],
   "source": [
    "dish.analyse_polymers(30)"
   ]
  },
  {
   "cell_type": "code",
   "execution_count": 6,
   "metadata": {},
   "outputs": [],
   "source": [
    "p = dish.polymers[1]"
   ]
  },
  {
   "cell_type": "code",
   "execution_count": 12,
   "metadata": {},
   "outputs": [
    {
     "data": {
      "text/plain": [
       "30"
      ]
     },
     "execution_count": 12,
     "metadata": {},
     "output_type": "execute_result"
    }
   ],
   "source": [
    "len(p.)\n"
   ]
  }
 ],
 "metadata": {
  "interpreter": {
   "hash": "9d635fac63618d961f9c0a107e08197b6a7b982fdf7530708cf3436bb6241dec"
  },
  "kernelspec": {
   "display_name": "Python 3 (ipykernel)",
   "language": "python",
   "name": "python3"
  },
  "language_info": {
   "codemirror_mode": {
    "name": "ipython",
    "version": 3
   },
   "file_extension": ".py",
   "mimetype": "text/x-python",
   "name": "python",
   "nbconvert_exporter": "python",
   "pygments_lexer": "ipython3",
   "version": "3.9.7"
  }
 },
 "nbformat": 4,
 "nbformat_minor": 4
}
