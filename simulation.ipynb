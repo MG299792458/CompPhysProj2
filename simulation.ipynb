{
 "cells": [
  {
   "cell_type": "code",
   "execution_count": 1,
   "metadata": {},
   "outputs": [],
   "source": [
    "from polpymer.core_funcs import Polymer, Monomer, Dish\n",
    "from polpymer.data_funcs import plot_polymer, grow_polymer, \\\n",
    "     generate_N_polymers, expect_observ, error_observ\n",
    "import numpy as np\n",
    "import matplotlib.pyplot as plt"
   ]
  },
  {
   "cell_type": "code",
   "execution_count": null,
   "metadata": {},
   "outputs": [],
   "source": [
    "\"\"\" We can start a new Polymer object with a starting Monomer(angle) where angle is {0,1,2,3} for 0*90, 1*90, 2*90, 3*90 degrees\n",
    "\n",
    "Here we start the chain with a monomer to the right\n",
    "\"\"\"\n",
    "first_monomer = Monomer(0)\n",
    "\n",
    "polymer = Polymer((10,10), (5,5))\n",
    "print(first_monomer.end_location)"
   ]
  },
  {
   "cell_type": "code",
   "execution_count": null,
   "metadata": {},
   "outputs": [],
   "source": [
    "print(polymer.chain_end)\n",
    "print(polymer.chain_start)"
   ]
  },
  {
   "cell_type": "code",
   "execution_count": null,
   "metadata": {},
   "outputs": [],
   "source": [
    "polymer.add_monomer(3) # add monomer down\n",
    "print(polymer.chain_end)"
   ]
  },
  {
   "cell_type": "code",
   "execution_count": null,
   "metadata": {},
   "outputs": [],
   "source": [
    "\"\"\"\n",
    "Since we dont want our Polymer to close we see that we get an arrow if we now\n",
    "add further monomers that go to the left and up again\n",
    "\"\"\"\n",
    "\n",
    "polymer.add_monomer(2) # add monomer to the left\n",
    "print(polymer.chain_end)\n",
    "try:\n",
    "    polymer.add_monomer(1) # add monomer up (should error out)\n",
    "except:\n",
    "    print('Could not add monomer')\n",
    "print(polymer.chain_end)"
   ]
  },
  {
   "cell_type": "code",
   "execution_count": null,
   "metadata": {},
   "outputs": [],
   "source": [
    "plot_polymer(polymer)"
   ]
  },
  {
   "cell_type": "code",
   "execution_count": null,
   "metadata": {},
   "outputs": [],
   "source": [
    "for monomer in polymer:\n",
    "    print(monomer, \"angle = {}\".format(monomer.angle))"
   ]
  },
  {
   "cell_type": "code",
   "execution_count": null,
   "metadata": {},
   "outputs": [],
   "source": [
    "polymer1 = Polymer((10,10), (5,5))"
   ]
  },
  {
   "cell_type": "code",
   "execution_count": null,
   "metadata": {},
   "outputs": [],
   "source": [
    "from random import randint\n",
    "\n",
    "random_angles = [randint(0,3) for i in range(10)]\n",
    "\n",
    "for i in random_angles:\n",
    "    polymer1.add_monomer(i)"
   ]
  },
  {
   "cell_type": "code",
   "execution_count": null,
   "metadata": {},
   "outputs": [],
   "source": [
    "plot_polymer(polymer1)"
   ]
  },
  {
   "cell_type": "code",
   "execution_count": null,
   "metadata": {},
   "outputs": [],
   "source": [
    "m, polymer2 = grow_polymer((20,20), (10,10), 200)\n",
    "m"
   ]
  },
  {
   "cell_type": "code",
   "execution_count": null,
   "metadata": {},
   "outputs": [],
   "source": [
    "plot_polymer(polymer2)"
   ]
  },
  {
   "cell_type": "code",
   "execution_count": null,
   "metadata": {},
   "outputs": [],
   "source": [
    "polymer2.chain_length"
   ]
  },
  {
   "cell_type": "code",
   "execution_count": null,
   "metadata": {},
   "outputs": [],
   "source": [
    "\"\"\"\n",
    "run test to check if behaviour is as expected for random polymers of length 1, 2, 3\n",
    "\"\"\"\n",
    "N = 1000\n",
    "L = 2\n",
    "end2end = np.zeros(N)\n",
    "for i in range(N):\n",
    "    test_m, testpoly = grow_polymer((10,10), (5,5), L)\n",
    "    end2end[i] = np.sqrt(testpoly.distance_end_start())\n",
    "\n",
    "plt.hist(end2end)\n",
    "plt.savefig('Figures/end2endDistribution_L={}'.format(L))\n",
    "\n",
    "\"Distribution of end to end distances is as expected for these lengths\""
   ]
  },
  {
   "cell_type": "code",
   "execution_count": null,
   "metadata": {},
   "outputs": [],
   "source": [
    "end_to_end, gyration, weights = generate_N_polymers(70, 10, (10,10), (5,5))\n",
    "end_to_end_weighted_avg = expect_observ(end_to_end, weights)\n",
    "end_to_end_err = error_observ(end_to_end, weights, 5)"
   ]
  },
  {
   "cell_type": "code",
   "execution_count": null,
   "metadata": {},
   "outputs": [],
   "source": [
    "polymer = Polymer((10,10), (5,5))\n",
    "polymer.grow_polymer(40)"
   ]
  },
  {
   "cell_type": "code",
   "execution_count": null,
   "metadata": {},
   "outputs": [],
   "source": [
    "plot_polymer(polymer)"
   ]
  },
  {
   "cell_type": "code",
   "execution_count": null,
   "metadata": {},
   "outputs": [],
   "source": [
    "end, gyr = polymer.observables()"
   ]
  },
  {
   "cell_type": "code",
   "execution_count": null,
   "metadata": {},
   "outputs": [],
   "source": [
    "print(end)\n",
    "print(gyr)"
   ]
  },
  {
   "cell_type": "code",
   "execution_count": null,
   "metadata": {},
   "outputs": [],
   "source": [
    "dish = Dish((10,10), (5,5))\n"
   ]
  },
  {
   "cell_type": "code",
   "execution_count": null,
   "metadata": {},
   "outputs": [],
   "source": [
    "dish.generate_N_polymers(100, 30)"
   ]
  },
  {
   "cell_type": "code",
   "execution_count": null,
   "metadata": {},
   "outputs": [],
   "source": [
    "dish.polymers"
   ]
  },
  {
   "cell_type": "code",
   "execution_count": null,
   "metadata": {},
   "outputs": [],
   "source": [
    "weights = dish.weights\n",
    "observ = dish.end_to_end\n"
   ]
  },
  {
   "cell_type": "code",
   "execution_count": null,
   "metadata": {},
   "outputs": [],
   "source": [
    "\n",
    "end_to_end_weighted_avg = expect_observ(observ, weights)\n",
    "end_to_end_err = error_observ(observ, weights, 5)"
   ]
  },
  {
   "cell_type": "code",
   "execution_count": null,
   "metadata": {},
   "outputs": [],
   "source": [
    "def scaling_law(L, dims):\n",
    "    ls = np.arange(L)+1\n",
    "    exponent = 2*3/4\n",
    "\n",
    "    return ls**exponent"
   ]
  },
  {
   "cell_type": "code",
   "execution_count": null,
   "metadata": {},
   "outputs": [],
   "source": [
    "exp_behaviour = scaling_law(30, 2)"
   ]
  },
  {
   "cell_type": "code",
   "execution_count": null,
   "metadata": {},
   "outputs": [],
   "source": [
    "plt.plot(np.arange(30),exp_behaviour, label=r'exp.')\n",
    "plt.errorbar(np.arange(29), end_to_end_weighted_avg, yerr=end_to_end_err, label=r'sim.')\n",
    "plt.legend(frameon=False)\n",
    "plt.ylabel(r\"$\\langle r_e^2(L) \\rangle$\")\n",
    "plt.xlabel(r\"Polymer length $L$ [$a$]\")\n",
    "plt.savefig('Figures/end2endplot')"
   ]
  },
  {
   "cell_type": "code",
   "execution_count": null,
   "metadata": {},
   "outputs": [],
   "source": []
  },
  {
   "cell_type": "code",
   "execution_count": 28,
   "metadata": {},
   "outputs": [
    {
     "name": "stdout",
     "output_type": "stream",
     "text": [
      "60\n"
     ]
    }
   ],
   "source": [
    "dish = Dish((10,10),(5,5))\n",
    "dish.PERM(10, 2, 100)\n",
    "print(len(dish.polymers))"
   ]
  },
  {
   "cell_type": "code",
   "execution_count": 29,
   "metadata": {},
   "outputs": [
    {
     "name": "stdout",
     "output_type": "stream",
     "text": [
      "14\n",
      "26\n",
      "23\n",
      "23\n",
      "18\n",
      "42\n",
      "25\n",
      "100\n",
      "26\n",
      "10\n",
      "66\n",
      "25\n",
      "57\n",
      "39\n",
      "57\n",
      "37\n",
      "46\n",
      "35\n",
      "86\n",
      "100\n",
      "69\n",
      "39\n",
      "69\n",
      "56\n",
      "83\n",
      "44\n",
      "35\n",
      "87\n",
      "48\n",
      "52\n",
      "42\n",
      "100\n",
      "81\n",
      "99\n",
      "52\n",
      "91\n",
      "57\n",
      "64\n",
      "100\n",
      "100\n",
      "66\n",
      "100\n",
      "69\n",
      "87\n",
      "96\n",
      "100\n",
      "89\n",
      "95\n",
      "94\n",
      "95\n",
      "100\n",
      "98\n",
      "100\n",
      "100\n",
      "100\n",
      "94\n",
      "100\n",
      "100\n",
      "100\n",
      "100\n"
     ]
    }
   ],
   "source": [
    "for polymer in dish.polymers:\n",
    "    print(polymer.chain_length)"
   ]
  },
  {
   "cell_type": "code",
   "execution_count": 30,
   "metadata": {},
   "outputs": [],
   "source": [
    "weights = dish.weights\n",
    "observ = dish.end_to_end"
   ]
  },
  {
   "cell_type": "code",
   "execution_count": 31,
   "metadata": {},
   "outputs": [],
   "source": [
    "end_to_end_weighted_avg = expect_observ(observ, weights)\n",
    "end_to_end_err = error_observ(observ, weights, 5)"
   ]
  },
  {
   "cell_type": "code",
   "execution_count": 32,
   "metadata": {},
   "outputs": [],
   "source": [
    "from scipy.optimize import curve_fit as cv"
   ]
  },
  {
   "cell_type": "code",
   "execution_count": 33,
   "metadata": {},
   "outputs": [],
   "source": [
    "def fun(x, a):\n",
    "    return a*x**(3/2)"
   ]
  },
  {
   "cell_type": "code",
   "execution_count": 34,
   "metadata": {},
   "outputs": [],
   "source": [
    "cutoff = 70\n",
    "cf = cutoff"
   ]
  },
  {
   "cell_type": "code",
   "execution_count": 35,
   "metadata": {},
   "outputs": [],
   "source": [
    "x = np.arange(cf)\n",
    "y = end_to_end_weighted_avg[0:cf]"
   ]
  },
  {
   "cell_type": "code",
   "execution_count": 36,
   "metadata": {},
   "outputs": [
    {
     "data": {
      "text/plain": [
       "[]"
      ]
     },
     "execution_count": 36,
     "metadata": {},
     "output_type": "execute_result"
    }
   ],
   "source": [
    "[ i for i in np.arange(len(end_to_end_weighted_avg)) if np.isnan(end_to_end_weighted_avg[i])]"
   ]
  },
  {
   "cell_type": "code",
   "execution_count": 37,
   "metadata": {},
   "outputs": [],
   "source": [
    "copt, ccov = cv(fun, x, y)"
   ]
  },
  {
   "cell_type": "code",
   "execution_count": 38,
   "metadata": {},
   "outputs": [],
   "source": [
    "\n",
    "exp_behaviour = fun(x, copt) "
   ]
  },
  {
   "cell_type": "code",
   "execution_count": 39,
   "metadata": {},
   "outputs": [],
   "source": [
    "yerr = end_to_end_err[0:cf]"
   ]
  },
  {
   "cell_type": "code",
   "execution_count": 41,
   "metadata": {},
   "outputs": [
    {
     "data": {
      "image/png": "[encoded data removed]",
      "text/plain": [
       "<Figure size 432x288 with 1 Axes>"
      ]
     },
     "metadata": {
      "needs_background": "light"
     },
     "output_type": "display_data"
    }
   ],
   "source": [
    "plt.plot(x, fun(x, copt), label=r'exp.')\n",
    "plt.errorbar(x, end_to_end_weighted_avg[0:cf], yerr=end_to_end_err[0:cf], label=r'sim.')\n",
    "plt.legend(frameon=False)\n",
    "plt.ylabel(r\"$\\langle r_e^2(L) \\rangle$\")\n",
    "plt.xlabel(r\"Polymer length $L$ [$a$]\")\n",
    "plt.title(\"PERM\")\n",
    "plt.savefig('Figures/end2endplot')"
   ]
  },
  {
   "cell_type": "code",
   "execution_count": null,
   "metadata": {},
   "outputs": [],
   "source": []
  }
 ],
 "metadata": {
  "interpreter": {
   "hash": "9d635fac63618d961f9c0a107e08197b6a7b982fdf7530708cf3436bb6241dec"
  },
  "kernelspec": {
   "display_name": "Python 3 (ipykernel)",
   "language": "python",
   "name": "python3"
  },
  "language_info": {
   "codemirror_mode": {
    "name": "ipython",
    "version": 3
   },
   "file_extension": ".py",
   "mimetype": "text/x-python",
   "name": "python",
   "nbconvert_exporter": "python",
   "pygments_lexer": "ipython3",
   "version": "3.9.0"
  }
 },
 "nbformat": 4,
 "nbformat_minor": 4
}
