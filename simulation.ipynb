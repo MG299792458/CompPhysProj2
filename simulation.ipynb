{
 "cells": [
  {
   "cell_type": "code",
   "execution_count": 1,
   "metadata": {},
   "outputs": [],
   "source": [
    "from polpymer.core_funcs import Polymer, Monomer, Dish\n",
    "from polpymer.data_funcs import plot_polymer, grow_polymer, \\\n",
    "     generate_N_polymers, expect_observ, error_observ\n",
    "import numpy as np\n",
    "import matplotlib.pyplot as plt"
   ]
  },
  {
   "cell_type": "code",
   "execution_count": null,
   "metadata": {},
   "outputs": [],
   "source": [
    "\"\"\" We can start a new Polymer object with a starting Monomer(angle) where angle is {0,1,2,3} for 0*90, 1*90, 2*90, 3*90 degrees\n",
    "\n",
    "Here we start the chain with a monomer to the right\n",
    "\"\"\"\n",
    "first_monomer = Monomer(0)\n",
    "\n",
    "polymer = Polymer((10,10), (5,5))\n",
    "print(first_monomer.end_location)"
   ]
  },
  {
   "cell_type": "code",
   "execution_count": null,
   "metadata": {},
   "outputs": [],
   "source": [
    "print(polymer.chain_end)\n",
    "print(polymer.chain_start)"
   ]
  },
  {
   "cell_type": "code",
   "execution_count": null,
   "metadata": {},
   "outputs": [],
   "source": [
    "polymer.add_monomer(3) # add monomer down\n",
    "print(polymer.chain_end)"
   ]
  },
  {
   "cell_type": "code",
   "execution_count": null,
   "metadata": {},
   "outputs": [],
   "source": [
    "\"\"\"\n",
    "Since we dont want our Polymer to close we see that we get an arrow if we now\n",
    "add further monomers that go to the left and up again\n",
    "\"\"\"\n",
    "\n",
    "polymer.add_monomer(2) # add monomer to the left\n",
    "print(polymer.chain_end)\n",
    "try:\n",
    "    polymer.add_monomer(1) # add monomer up (should error out)\n",
    "except:\n",
    "    print('Could not add monomer')\n",
    "print(polymer.chain_end)"
   ]
  },
  {
   "cell_type": "code",
   "execution_count": null,
   "metadata": {},
   "outputs": [],
   "source": [
    "plot_polymer(polymer)"
   ]
  },
  {
   "cell_type": "code",
   "execution_count": null,
   "metadata": {},
   "outputs": [],
   "source": [
    "for monomer in polymer:\n",
    "    print(monomer, \"angle = {}\".format(monomer.angle))"
   ]
  },
  {
   "cell_type": "code",
   "execution_count": null,
   "metadata": {},
   "outputs": [],
   "source": [
    "polymer1 = Polymer((10,10), (5,5))"
   ]
  },
  {
   "cell_type": "code",
   "execution_count": null,
   "metadata": {},
   "outputs": [],
   "source": [
    "from random import randint\n",
    "\n",
    "random_angles = [randint(0,3) for i in range(10)]\n",
    "\n",
    "for i in random_angles:\n",
    "    polymer1.add_monomer(i)"
   ]
  },
  {
   "cell_type": "code",
   "execution_count": null,
   "metadata": {},
   "outputs": [],
   "source": [
    "plot_polymer(polymer1)"
   ]
  },
  {
   "cell_type": "code",
   "execution_count": null,
   "metadata": {},
   "outputs": [],
   "source": [
    "m, polymer2 = grow_polymer((20,20), (10,10), 3)\n",
    "m"
   ]
  },
  {
   "cell_type": "code",
   "execution_count": null,
   "metadata": {},
   "outputs": [],
   "source": [
    "plot_polymer(polymer2)"
   ]
  },
  {
   "cell_type": "code",
   "execution_count": null,
   "metadata": {},
   "outputs": [],
   "source": [
    "polymer2.chain_length"
   ]
  },
  {
   "cell_type": "code",
   "execution_count": null,
   "metadata": {},
   "outputs": [],
   "source": [
    "\"\"\"\n",
    "run test to check if behaviour is as expected for random polymers of length 1, 2, 3\n",
    "\"\"\"\n",
    "N = 1000\n",
    "L = 2\n",
    "end2end = np.zeros(N)\n",
    "for i in range(N):\n",
    "    test_m, testpoly = grow_polymer((10,10), (5,5), L)\n",
    "    end2end[i] = np.sqrt(testpoly.distance_end_start())\n",
    "\n",
    "plt.hist(end2end)\n",
    "plt.savefig('Figures/end2endDistribution_L={}'.format(L))\n",
    "\n",
    "\"Distribution of end to end distances is as expected for these lengths\""
   ]
  },
  {
   "cell_type": "code",
   "execution_count": null,
   "metadata": {},
   "outputs": [],
   "source": [
    "end_to_end, gyration, weights = generate_N_polymers(70, 10, (10,10), (5,5))\n",
    "end_to_end_weighted_avg = expect_observ(end_to_end, weights)\n",
    "end_to_end_err = error_observ(end_to_end, weights, 5)"
   ]
  },
  {
   "cell_type": "code",
   "execution_count": 3,
   "metadata": {},
   "outputs": [],
   "source": [
    "polymer = Polymer((10,10), (5,5))\n",
    "polymer.grow_polymer(10)"
   ]
  },
  {
   "cell_type": "code",
   "execution_count": 4,
   "metadata": {},
   "outputs": [
    {
     "data": {
      "image/png": "[encoded data removed]",
      "text/plain": [
       "<Figure size 432x288 with 1 Axes>"
      ]
     },
     "metadata": {
      "needs_background": "light"
     },
     "output_type": "display_data"
    }
   ],
   "source": [
    "plot_polymer(polymer)"
   ]
  },
  {
   "cell_type": "code",
   "execution_count": 5,
   "metadata": {},
   "outputs": [],
   "source": [
    "end, gyr = polymer.observables()"
   ]
  },
  {
   "cell_type": "code",
   "execution_count": 7,
   "metadata": {},
   "outputs": [
    {
     "name": "stdout",
     "output_type": "stream",
     "text": [
      "[ 1.  2.  1.  4.  5. 10.  9. 10. 13.]\n",
      "[0.         0.25       0.44444444 0.5        0.8        0.91666667\n",
      " 1.30612245 1.5        1.77777778]\n"
     ]
    }
   ],
   "source": [
    "print(end)\n",
    "print(gyr)"
   ]
  },
  {
   "cell_type": "code",
   "execution_count": 2,
   "metadata": {},
   "outputs": [],
   "source": [
    "dish = Dish((10,10), (5,5))\n"
   ]
  },
  {
   "cell_type": "code",
   "execution_count": 4,
   "metadata": {},
   "outputs": [
    {
     "data": {
      "text/plain": [
       "(array([[nan, nan, nan, nan, nan, nan, nan, nan, nan],\n",
       "        [nan, nan, nan, nan, nan, nan, nan, nan, nan],\n",
       "        [nan, nan, nan, nan, nan, nan, nan, nan, nan],\n",
       "        [nan, nan, nan, nan, nan, nan, nan, nan, nan],\n",
       "        [nan, nan, nan, nan, nan, nan, nan, nan, nan],\n",
       "        [nan, nan, nan, nan, nan, nan, nan, nan, nan],\n",
       "        [nan, nan, nan, nan, nan, nan, nan, nan, nan],\n",
       "        [nan, nan, nan, nan, nan, nan, nan, nan, nan],\n",
       "        [nan, nan, nan, nan, nan, nan, nan, nan, nan],\n",
       "        [nan, nan, nan, nan, nan, nan, nan, nan, nan]]),\n",
       " array([[nan, nan, nan, nan, nan, nan, nan, nan, nan],\n",
       "        [nan, nan, nan, nan, nan, nan, nan, nan, nan],\n",
       "        [nan, nan, nan, nan, nan, nan, nan, nan, nan],\n",
       "        [nan, nan, nan, nan, nan, nan, nan, nan, nan],\n",
       "        [nan, nan, nan, nan, nan, nan, nan, nan, nan],\n",
       "        [nan, nan, nan, nan, nan, nan, nan, nan, nan],\n",
       "        [nan, nan, nan, nan, nan, nan, nan, nan, nan],\n",
       "        [nan, nan, nan, nan, nan, nan, nan, nan, nan],\n",
       "        [nan, nan, nan, nan, nan, nan, nan, nan, nan],\n",
       "        [nan, nan, nan, nan, nan, nan, nan, nan, nan]]),\n",
       " array([[3.0000e+00, 9.0000e+00, 2.7000e+01, 8.1000e+01, 2.4300e+02,\n",
       "         2.4300e+02, 4.8600e+02, 1.4580e+03, 2.9160e+03],\n",
       "        [3.0000e+00, 9.0000e+00, 2.7000e+01, 8.1000e+01, 2.4300e+02,\n",
       "         4.8600e+02, 9.7200e+02, 2.9160e+03, 5.8320e+03],\n",
       "        [3.0000e+00, 9.0000e+00, 1.8000e+01, 5.4000e+01, 1.0800e+02,\n",
       "         3.2400e+02, 9.7200e+02, 2.9160e+03, 8.7480e+03],\n",
       "        [3.0000e+00, 9.0000e+00, 2.7000e+01, 8.1000e+01, 2.4300e+02,\n",
       "         7.2900e+02, 2.1870e+03, 6.5610e+03, 1.9683e+04],\n",
       "        [3.0000e+00, 9.0000e+00, 2.7000e+01, 8.1000e+01, 2.4300e+02,\n",
       "         7.2900e+02, 2.1870e+03, 6.5610e+03, 1.9683e+04],\n",
       "        [3.0000e+00, 9.0000e+00, 2.7000e+01, 5.4000e+01, 1.6200e+02,\n",
       "         4.8600e+02, 1.4580e+03, 4.3740e+03, 1.3122e+04],\n",
       "        [3.0000e+00, 9.0000e+00, 2.7000e+01, 8.1000e+01, 2.4300e+02,\n",
       "         7.2900e+02, 1.4580e+03, 4.3740e+03, 1.3122e+04],\n",
       "        [3.0000e+00, 9.0000e+00, 2.7000e+01, 8.1000e+01, 8.1000e+01,\n",
       "         2.4300e+02, 4.8600e+02, 1.4580e+03, 2.9160e+03],\n",
       "        [3.0000e+00, 9.0000e+00, 2.7000e+01, 8.1000e+01, 2.4300e+02,\n",
       "         7.2900e+02, 1.4580e+03, 4.3740e+03, 1.3122e+04],\n",
       "        [3.0000e+00, 9.0000e+00, 2.7000e+01, 8.1000e+01, 2.4300e+02,\n",
       "         7.2900e+02, 1.4580e+03, 4.3740e+03, 8.7480e+03]]))"
      ]
     },
     "execution_count": 4,
     "metadata": {},
     "output_type": "execute_result"
    }
   ],
   "source": [
    "dish.generate_N_polymers(10, 10)"
   ]
  },
  {
   "cell_type": "code",
   "execution_count": 3,
   "metadata": {},
   "outputs": [
    {
     "data": {
      "text/plain": [
       "[<polpymer.core_funcs.Polymer at 0x2a29d384c70>,\n",
       " <polpymer.core_funcs.Polymer at 0x2a29d3843a0>,\n",
       " <polpymer.core_funcs.Polymer at 0x2a29b4642e0>,\n",
       " <polpymer.core_funcs.Polymer at 0x2a2b48d73d0>,\n",
       " <polpymer.core_funcs.Polymer at 0x2a29d3ef250>,\n",
       " <polpymer.core_funcs.Polymer at 0x2a2b48d76d0>,\n",
       " <polpymer.core_funcs.Polymer at 0x2a2b48d74f0>,\n",
       " <polpymer.core_funcs.Polymer at 0x2a2b48d7a90>,\n",
       " <polpymer.core_funcs.Polymer at 0x2a29b4644f0>,\n",
       " <polpymer.core_funcs.Polymer at 0x2a2b48d7cd0>]"
      ]
     },
     "execution_count": 3,
     "metadata": {},
     "output_type": "execute_result"
    }
   ],
   "source": [
    "dish.polymers"
   ]
  },
  {
   "cell_type": "code",
   "execution_count": 3,
   "metadata": {},
   "outputs": [
    {
     "ename": "NameError",
     "evalue": "name 'dish' is not defined",
     "output_type": "error",
     "traceback": [
      "\u001b[1;31m---------------------------------------------------------------------------\u001b[0m",
      "\u001b[1;31mNameError\u001b[0m                                 Traceback (most recent call last)",
      "\u001b[1;32m~\\AppData\\Local\\Temp/ipykernel_29476/1810964604.py\u001b[0m in \u001b[0;36m<module>\u001b[1;34m\u001b[0m\n\u001b[1;32m----> 1\u001b[1;33m \u001b[0mweights\u001b[0m \u001b[1;33m=\u001b[0m \u001b[0mdish\u001b[0m\u001b[1;33m.\u001b[0m\u001b[0mweights\u001b[0m\u001b[1;33m\u001b[0m\u001b[1;33m\u001b[0m\u001b[0m\n\u001b[0m\u001b[0;32m      2\u001b[0m \u001b[0mobserv\u001b[0m \u001b[1;33m=\u001b[0m \u001b[0mdish\u001b[0m\u001b[1;33m.\u001b[0m\u001b[0mend_to_end\u001b[0m\u001b[1;33m\u001b[0m\u001b[1;33m\u001b[0m\u001b[0m\n",
      "\u001b[1;31mNameError\u001b[0m: name 'dish' is not defined"
     ]
    }
   ],
   "source": [
    "weights = dish.weights\n",
    "observ = dish.end_to_end\n"
   ]
  },
  {
   "cell_type": "code",
   "execution_count": 9,
   "metadata": {},
   "outputs": [
    {
     "ename": "TypeError",
     "evalue": "unsupported operand type(s) for *: 'NoneType' and 'float'",
     "output_type": "error",
     "traceback": [
      "\u001b[1;31m---------------------------------------------------------------------------\u001b[0m",
      "\u001b[1;31mTypeError\u001b[0m                                 Traceback (most recent call last)",
      "\u001b[1;32m~\\AppData\\Local\\Temp/ipykernel_28124/459386697.py\u001b[0m in \u001b[0;36m<module>\u001b[1;34m\u001b[0m\n\u001b[1;32m----> 1\u001b[1;33m \u001b[0mend_to_end_weighted_avg\u001b[0m \u001b[1;33m=\u001b[0m \u001b[0mexpect_observ\u001b[0m\u001b[1;33m(\u001b[0m\u001b[0mobserv\u001b[0m\u001b[1;33m,\u001b[0m \u001b[0mweights\u001b[0m\u001b[1;33m)\u001b[0m\u001b[1;33m\u001b[0m\u001b[1;33m\u001b[0m\u001b[0m\n\u001b[0m\u001b[0;32m      2\u001b[0m \u001b[0mend_to_end_err\u001b[0m \u001b[1;33m=\u001b[0m \u001b[0merror_observ\u001b[0m\u001b[1;33m(\u001b[0m\u001b[0mobserv\u001b[0m\u001b[1;33m,\u001b[0m \u001b[0mweights\u001b[0m\u001b[1;33m,\u001b[0m \u001b[1;36m5\u001b[0m\u001b[1;33m)\u001b[0m\u001b[1;33m\u001b[0m\u001b[1;33m\u001b[0m\u001b[0m\n",
      "\u001b[1;32mc:\\Users\\Jeroe\\Documents\\TU Delft\\AP3082 Computational Physics\\project-2\\polpymer\\data_funcs.py\u001b[0m in \u001b[0;36mexpect_observ\u001b[1;34m(observ, w)\u001b[0m\n\u001b[0;32m    262\u001b[0m     \"\"\"\n\u001b[0;32m    263\u001b[0m \u001b[1;33m\u001b[0m\u001b[0m\n\u001b[1;32m--> 264\u001b[1;33m     \u001b[0mstep_1\u001b[0m \u001b[1;33m=\u001b[0m \u001b[0mw\u001b[0m \u001b[1;33m*\u001b[0m \u001b[0mobserv\u001b[0m\u001b[1;33m\u001b[0m\u001b[1;33m\u001b[0m\u001b[0m\n\u001b[0m\u001b[0;32m    265\u001b[0m     \u001b[0mstep_2a\u001b[0m \u001b[1;33m=\u001b[0m \u001b[0mnp\u001b[0m\u001b[1;33m.\u001b[0m\u001b[0msum\u001b[0m\u001b[1;33m(\u001b[0m\u001b[0mstep_1\u001b[0m\u001b[1;33m,\u001b[0m \u001b[0maxis\u001b[0m\u001b[1;33m=\u001b[0m\u001b[1;36m0\u001b[0m\u001b[1;33m)\u001b[0m\u001b[1;33m\u001b[0m\u001b[1;33m\u001b[0m\u001b[0m\n\u001b[0;32m    266\u001b[0m     \u001b[0mstep_2b\u001b[0m \u001b[1;33m=\u001b[0m \u001b[0mnp\u001b[0m\u001b[1;33m.\u001b[0m\u001b[0msum\u001b[0m\u001b[1;33m(\u001b[0m\u001b[0mw\u001b[0m\u001b[1;33m,\u001b[0m \u001b[0maxis\u001b[0m\u001b[1;33m=\u001b[0m\u001b[1;36m0\u001b[0m\u001b[1;33m)\u001b[0m\u001b[1;33m\u001b[0m\u001b[1;33m\u001b[0m\u001b[0m\n",
      "\u001b[1;31mTypeError\u001b[0m: unsupported operand type(s) for *: 'NoneType' and 'float'"
     ]
    }
   ],
   "source": [
    "\n",
    "end_to_end_weighted_avg = expect_observ(observ, weights)\n",
    "end_to_end_err = error_observ(observ, weights, 5)"
   ]
  },
  {
   "cell_type": "code",
   "execution_count": null,
   "metadata": {},
   "outputs": [],
   "source": [
    "def scaling_law(L, dims):\n",
    "    ls = np.arange(L)+1\n",
    "    exponent = 2*3/4\n",
    "\n",
    "    return ls**exponent"
   ]
  },
  {
   "cell_type": "code",
   "execution_count": 7,
   "metadata": {},
   "outputs": [
    {
     "ename": "NameError",
     "evalue": "name 'scaling_law' is not defined",
     "output_type": "error",
     "traceback": [
      "\u001b[1;31m---------------------------------------------------------------------------\u001b[0m",
      "\u001b[1;31mNameError\u001b[0m                                 Traceback (most recent call last)",
      "\u001b[1;32m~\\AppData\\Local\\Temp/ipykernel_30620/1562683119.py\u001b[0m in \u001b[0;36m<module>\u001b[1;34m\u001b[0m\n\u001b[1;32m----> 1\u001b[1;33m \u001b[0mexp_behaviour\u001b[0m \u001b[1;33m=\u001b[0m \u001b[0mscaling_law\u001b[0m\u001b[1;33m(\u001b[0m\u001b[1;36m10\u001b[0m\u001b[1;33m,\u001b[0m \u001b[1;36m2\u001b[0m\u001b[1;33m)\u001b[0m\u001b[1;33m\u001b[0m\u001b[1;33m\u001b[0m\u001b[0m\n\u001b[0m",
      "\u001b[1;31mNameError\u001b[0m: name 'scaling_law' is not defined"
     ]
    }
   ],
   "source": [
    "exp_behaviour = scaling_law(10, 2)"
   ]
  },
  {
   "cell_type": "code",
   "execution_count": null,
   "metadata": {},
   "outputs": [],
   "source": [
    "plt.plot(np.arange(10),exp_behaviour, label=r'exp.')\n",
    "plt.errorbar(np.arange(9), end_to_end_weighted_avg, yerr=end_to_end_err, label=r'sim.')\n",
    "plt.legend(frameon=False)\n",
    "plt.ylabel(r\"$\\langle r_e^2(L) \\rangle$\")\n",
    "plt.xlabel(r\"Polymer length $L$ [$a$]\")"
   ]
  }
 ],
 "metadata": {
  "interpreter": {
   "hash": "9d635fac63618d961f9c0a107e08197b6a7b982fdf7530708cf3436bb6241dec"
  },
  "kernelspec": {
   "display_name": "Python 3 (ipykernel)",
   "language": "python",
   "name": "python3"
  },
  "language_info": {
   "codemirror_mode": {
    "name": "ipython",
    "version": 3
   },
   "file_extension": ".py",
   "mimetype": "text/x-python",
   "name": "python",
   "nbconvert_exporter": "python",
   "pygments_lexer": "ipython3",
   "version": "3.9.0"
  }
 },
 "nbformat": 4,
 "nbformat_minor": 4
}
