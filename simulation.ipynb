{
 "cells": [
  {
   "cell_type": "code",
   "execution_count": 24,
   "metadata": {},
   "outputs": [],
   "source": [
    "from polpymer.core_funcs import Polymer, Monomer\n",
    "from polpymer.data_funcs import plot_polymer, grow_polymer\n",
    "import numpy as np\n",
    "import matplotlib.pyplot as plt"
   ]
  },
  {
   "cell_type": "code",
   "execution_count": 2,
   "metadata": {},
   "outputs": [
    {
     "name": "stdout",
     "output_type": "stream",
     "text": [
      "(6, 5)\n"
     ]
    }
   ],
   "source": [
    "\"\"\" We can start a new Polymer object with a starting Monomer(angle) where angle is {0,1,2,3} for 0*90, 1*90, 2*90, 3*90 degrees\n",
    "\n",
    "Here we start the chain with a monomer to the right\n",
    "\"\"\"\n",
    "first_monomer = Monomer(0)\n",
    "\n",
    "polymer = Polymer((10,10), (5,5), first_monomer)\n",
    "print(first_monomer.end_location)"
   ]
  },
  {
   "cell_type": "code",
   "execution_count": 3,
   "metadata": {},
   "outputs": [
    {
     "name": "stdout",
     "output_type": "stream",
     "text": [
      "(6, 5)\n",
      "(5, 5)\n"
     ]
    }
   ],
   "source": [
    "print(polymer.chain_end)\n",
    "print(polymer.chain_start)"
   ]
  },
  {
   "cell_type": "code",
   "execution_count": 4,
   "metadata": {},
   "outputs": [
    {
     "name": "stdout",
     "output_type": "stream",
     "text": [
      "(6, 4)\n"
     ]
    }
   ],
   "source": [
    "polymer.add_monomer(3) # add monomer down\n",
    "print(polymer.chain_end)"
   ]
  },
  {
   "cell_type": "code",
   "execution_count": 5,
   "metadata": {},
   "outputs": [
    {
     "name": "stdout",
     "output_type": "stream",
     "text": [
      "(5, 4)\n"
     ]
    },
    {
     "ename": "Exception",
     "evalue": "Proposed monomer's end location already a node of polymer",
     "output_type": "error",
     "traceback": [
      "\u001b[0;31m---------------------------------------------------------------------------\u001b[0m",
      "\u001b[0;31mException\u001b[0m                                 Traceback (most recent call last)",
      "Input \u001b[0;32mIn [5]\u001b[0m, in \u001b[0;36m<module>\u001b[0;34m\u001b[0m\n\u001b[1;32m      6\u001b[0m polymer\u001b[38;5;241m.\u001b[39madd_monomer(\u001b[38;5;241m2\u001b[39m) \u001b[38;5;66;03m# add monomer to the left\u001b[39;00m\n\u001b[1;32m      7\u001b[0m \u001b[38;5;28mprint\u001b[39m(polymer\u001b[38;5;241m.\u001b[39mchain_end)\n\u001b[0;32m----> 8\u001b[0m \u001b[43mpolymer\u001b[49m\u001b[38;5;241;43m.\u001b[39;49m\u001b[43madd_monomer\u001b[49m\u001b[43m(\u001b[49m\u001b[38;5;241;43m1\u001b[39;49m\u001b[43m)\u001b[49m \u001b[38;5;66;03m# add monomer up (should error out)\u001b[39;00m\n\u001b[1;32m      9\u001b[0m \u001b[38;5;28mprint\u001b[39m(polymer\u001b[38;5;241m.\u001b[39mchain_end)\n",
      "File \u001b[0;32m~/Project2-Polymer_SangersJeroen_agefrancke_mwglorie/polpymer/core_funcs.py:204\u001b[0m, in \u001b[0;36mPolymer.add_monomer\u001b[0;34m(self, ang, loc)\u001b[0m\n\u001b[1;32m    202\u001b[0m     \u001b[38;5;28mself\u001b[39m\u001b[38;5;241m.\u001b[39mclaimed_sites\u001b[38;5;241m.\u001b[39mappend(\u001b[38;5;28mself\u001b[39m\u001b[38;5;241m.\u001b[39mchain_end)\n\u001b[1;32m    203\u001b[0m \u001b[38;5;28;01melse\u001b[39;00m:\n\u001b[0;32m--> 204\u001b[0m     \u001b[38;5;28;01mraise\u001b[39;00m \u001b[38;5;167;01mException\u001b[39;00m(\u001b[38;5;124m\"\u001b[39m\u001b[38;5;124mProposed monomer\u001b[39m\u001b[38;5;124m'\u001b[39m\u001b[38;5;124ms end location already a node of polymer\u001b[39m\u001b[38;5;124m\"\u001b[39m)\n",
      "\u001b[0;31mException\u001b[0m: Proposed monomer's end location already a node of polymer"
     ]
    }
   ],
   "source": [
    "\"\"\"\n",
    "Since we dont want our Polymer to close we see that we get an arrow if we now\n",
    "add further monomers that go to the left and up again\n",
    "\"\"\"\n",
    "\n",
    "polymer.add_monomer(2) # add monomer to the left\n",
    "print(polymer.chain_end)\n",
    "polymer.add_monomer(1) # add monomer up (should error out)\n",
    "print(polymer.chain_end)"
   ]
  },
  {
   "cell_type": "code",
   "execution_count": 6,
   "metadata": {},
   "outputs": [
    {
     "data": {
      "image/png": "[encoded data removed]",
      "text/plain": [
       "<Figure size 432x288 with 1 Axes>"
      ]
     },
     "metadata": {
      "needs_background": "light"
     },
     "output_type": "display_data"
    }
   ],
   "source": [
    "plot_polymer(polymer)"
   ]
  },
  {
   "cell_type": "code",
   "execution_count": 7,
   "metadata": {},
   "outputs": [
    {
     "name": "stdout",
     "output_type": "stream",
     "text": [
      "Monomer from (5, 5) to (6, 5) angle = 0\n",
      "Monomer from (6, 5) to (6, 4) angle = 3\n",
      "Monomer from (6, 4) to (5, 4) angle = 2\n"
     ]
    }
   ],
   "source": [
    "for monomer in polymer:\n",
    "    print(monomer, \"angle = {}\".format(monomer.angle))"
   ]
  },
  {
   "cell_type": "code",
   "execution_count": 8,
   "metadata": {},
   "outputs": [],
   "source": [
    "polymer1 = Polymer((10,10), (5,5), first_monomer)"
   ]
  },
  {
   "cell_type": "code",
   "execution_count": 9,
   "metadata": {},
   "outputs": [
    {
     "ename": "Exception",
     "evalue": "Proposed monomer's end location already a node of polymer",
     "output_type": "error",
     "traceback": [
      "\u001b[0;31m---------------------------------------------------------------------------\u001b[0m",
      "\u001b[0;31mException\u001b[0m                                 Traceback (most recent call last)",
      "Input \u001b[0;32mIn [9]\u001b[0m, in \u001b[0;36m<module>\u001b[0;34m\u001b[0m\n\u001b[1;32m      3\u001b[0m random_angles \u001b[38;5;241m=\u001b[39m [randint(\u001b[38;5;241m0\u001b[39m,\u001b[38;5;241m3\u001b[39m) \u001b[38;5;28;01mfor\u001b[39;00m i \u001b[38;5;129;01min\u001b[39;00m \u001b[38;5;28mrange\u001b[39m(\u001b[38;5;241m10\u001b[39m)]\n\u001b[1;32m      5\u001b[0m \u001b[38;5;28;01mfor\u001b[39;00m i \u001b[38;5;129;01min\u001b[39;00m random_angles:\n\u001b[0;32m----> 6\u001b[0m     \u001b[43mpolymer1\u001b[49m\u001b[38;5;241;43m.\u001b[39;49m\u001b[43madd_monomer\u001b[49m\u001b[43m(\u001b[49m\u001b[43mi\u001b[49m\u001b[43m)\u001b[49m\n",
      "File \u001b[0;32m~/Project2-Polymer_SangersJeroen_agefrancke_mwglorie/polpymer/core_funcs.py:204\u001b[0m, in \u001b[0;36mPolymer.add_monomer\u001b[0;34m(self, ang, loc)\u001b[0m\n\u001b[1;32m    202\u001b[0m     \u001b[38;5;28mself\u001b[39m\u001b[38;5;241m.\u001b[39mclaimed_sites\u001b[38;5;241m.\u001b[39mappend(\u001b[38;5;28mself\u001b[39m\u001b[38;5;241m.\u001b[39mchain_end)\n\u001b[1;32m    203\u001b[0m \u001b[38;5;28;01melse\u001b[39;00m:\n\u001b[0;32m--> 204\u001b[0m     \u001b[38;5;28;01mraise\u001b[39;00m \u001b[38;5;167;01mException\u001b[39;00m(\u001b[38;5;124m\"\u001b[39m\u001b[38;5;124mProposed monomer\u001b[39m\u001b[38;5;124m'\u001b[39m\u001b[38;5;124ms end location already a node of polymer\u001b[39m\u001b[38;5;124m\"\u001b[39m)\n",
      "\u001b[0;31mException\u001b[0m: Proposed monomer's end location already a node of polymer"
     ]
    }
   ],
   "source": [
    "from random import randint\n",
    "\n",
    "random_angles = [randint(0,3) for i in range(10)]\n",
    "\n",
    "for i in random_angles:\n",
    "    polymer1.add_monomer(i)"
   ]
  },
  {
   "cell_type": "code",
   "execution_count": 10,
   "metadata": {},
   "outputs": [
    {
     "data": {
      "image/png": "[encoded data removed]",
      "text/plain": [
       "<Figure size 432x288 with 1 Axes>"
      ]
     },
     "metadata": {
      "needs_background": "light"
     },
     "output_type": "display_data"
    }
   ],
   "source": [
    "plot_polymer(polymer1)"
   ]
  },
  {
   "cell_type": "code",
   "execution_count": 2,
   "metadata": {},
   "outputs": [
    {
     "data": {
      "text/plain": [
       "array([3., 3.])"
      ]
     },
     "execution_count": 2,
     "metadata": {},
     "output_type": "execute_result"
    }
   ],
   "source": [
    "m, polymer2 = grow_polymer((20,20), (10,10), 3)\n",
    "m"
   ]
  },
  {
   "cell_type": "code",
   "execution_count": 3,
   "metadata": {},
   "outputs": [
    {
     "data": {
      "image/png": "[encoded data removed]",
      "text/plain": [
       "<Figure size 432x288 with 1 Axes>"
      ]
     },
     "metadata": {
      "needs_background": "light"
     },
     "output_type": "display_data"
    }
   ],
   "source": [
    "plot_polymer(polymer2)"
   ]
  },
  {
   "cell_type": "code",
   "execution_count": 4,
   "metadata": {},
   "outputs": [
    {
     "data": {
      "text/plain": [
       "3"
      ]
     },
     "execution_count": 4,
     "metadata": {},
     "output_type": "execute_result"
    }
   ],
   "source": [
    "polymer2.chain_length"
   ]
  },
  {
   "cell_type": "code",
   "execution_count": 52,
   "metadata": {},
   "outputs": [
    {
     "data": {
      "text/plain": [
       "'Distribution of end to end distances is as expected for these lengths'"
      ]
     },
     "execution_count": 52,
     "metadata": {},
     "output_type": "execute_result"
    },
    {
     "data": {
      "image/png": "[encoded data removed]",
      "text/plain": [
       "<Figure size 432x288 with 1 Axes>"
      ]
     },
     "metadata": {
      "needs_background": "light"
     },
     "output_type": "display_data"
    }
   ],
   "source": [
    "\"\"\"\n",
    "run test to check if behaviour is as expected for random polymers of length 1, 2, 3\n",
    "\"\"\"\n",
    "N = 1000\n",
    "L = 2\n",
    "end2end = np.zeros(N)\n",
    "for i in range(N):\n",
    "    test_m, testpoly = grow_polymer((10,10), (5,5), L)\n",
    "    end2end[i] = np.sqrt(testpoly.distance_end_start())\n",
    "\n",
    "plt.hist(end2end)\n",
    "plt.savefig('Figures/end2endDistribution_L={}'.format(L))\n",
    "\n",
    "\"Distribution of end to end distances is as expected for these lengths\""
   ]
  },
  {
   "cell_type": "code",
   "execution_count": 40,
   "metadata": {},
   "outputs": [
    {
     "ename": "SyntaxError",
     "evalue": "EOF while scanning triple-quoted string literal (3741424044.py, line 2)",
     "output_type": "error",
     "traceback": [
      "\u001b[0;36m  Input \u001b[0;32mIn [40]\u001b[0;36m\u001b[0m\n\u001b[0;31m    Distribution of end to end distances is as expected for these lengths\u001b[0m\n\u001b[0m                                                                         \n^\u001b[0m\n\u001b[0;31mSyntaxError\u001b[0m\u001b[0;31m:\u001b[0m EOF while scanning triple-quoted string literal\n"
     ]
    }
   ],
   "source": []
  },
  {
   "cell_type": "code",
   "execution_count": null,
   "metadata": {},
   "outputs": [],
   "source": []
  }
 ],
 "metadata": {
  "interpreter": {
   "hash": "9d635fac63618d961f9c0a107e08197b6a7b982fdf7530708cf3436bb6241dec"
  },
  "kernelspec": {
   "display_name": "Python 3 (ipykernel)",
   "language": "python",
   "name": "python3"
  },
  "language_info": {
   "codemirror_mode": {
    "name": "ipython",
    "version": 3
   },
   "file_extension": ".py",
   "mimetype": "text/x-python",
   "name": "python",
   "nbconvert_exporter": "python",
   "pygments_lexer": "ipython3",
   "version": "3.9.7"
  }
 },
 "nbformat": 4,
 "nbformat_minor": 4
}
